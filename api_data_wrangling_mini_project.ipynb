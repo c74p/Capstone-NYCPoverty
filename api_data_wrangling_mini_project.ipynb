{
 "cells": [
  {
   "cell_type": "markdown",
   "metadata": {},
   "source": [
    "This exercise will require you to pull some data from the Qunadl API. Qaundl is currently the most widely used aggregator of financial market data."
   ]
  },
  {
   "cell_type": "markdown",
   "metadata": {},
   "source": [
    "As a first step, you will need to register a free account on the http://www.quandl.com website."
   ]
  },
  {
   "cell_type": "markdown",
   "metadata": {},
   "source": [
    "After you register, you will be provided with a unique API key, that you should store:"
   ]
  },
  {
   "cell_type": "code",
   "execution_count": 1,
   "metadata": {},
   "outputs": [],
   "source": [
    "# Store the API key as a string - according to PEP8, constants are always named in all upper case\n",
    "API_KEY = 'zFWStsiY37zxSFxaceo7'"
   ]
  },
  {
   "cell_type": "markdown",
   "metadata": {},
   "source": [
    "Qaundl has a large number of data sources, but, unfortunately, most of them require a Premium subscription. Still, there are also a good number of free datasets."
   ]
  },
  {
   "cell_type": "markdown",
   "metadata": {},
   "source": [
    "For this mini project, we will focus on equities data from the Frankfurt Stock Exhange (FSE), which is available for free. We'll try and analyze the stock prices of a company called Carl Zeiss Meditec, which manufactures tools for eye examinations, as well as medical lasers for laser eye surgery: https://www.zeiss.com/meditec/int/home.html. The company is listed under the stock ticker AFX_X."
   ]
  },
  {
   "cell_type": "markdown",
   "metadata": {},
   "source": [
    "You can find the detailed Quandl API instructions here: https://docs.quandl.com/docs/time-series"
   ]
  },
  {
   "cell_type": "markdown",
   "metadata": {},
   "source": [
    "While there is a dedicated Python package for connecting to the Quandl API, we would prefer that you use the *requests* package, which can be easily downloaded using *pip* or *conda*. You can find the documentation for the package here: http://docs.python-requests.org/en/master/ "
   ]
  },
  {
   "cell_type": "markdown",
   "metadata": {},
   "source": [
    "Finally, apart from the *requests* package, you are encouraged to not use any third party Python packages, such as *pandas*, and instead focus on what's available in the Python Standard Library (the *collections* module might come in handy: https://pymotw.com/3/collections/).\n",
    "Also, since you won't have access to DataFrames, you are encouraged to us Python's native data structures - preferably dictionaries, though some questions can also be answered using lists.\n",
    "You can read more on these data structures here: https://docs.python.org/3/tutorial/datastructures.html"
   ]
  },
  {
   "cell_type": "markdown",
   "metadata": {},
   "source": [
    "Keep in mind that the JSON responses you will be getting from the API map almost one-to-one to Python's dictionaries. Unfortunately, they can be very nested, so make sure you read up on indexing dictionaries in the documentation provided above."
   ]
  },
  {
   "cell_type": "code",
   "execution_count": 2,
   "metadata": {},
   "outputs": [],
   "source": [
    "# First, import the relevant modules\n",
    "import requests\n",
    "import collections\n",
    "\n",
    "from datetime import datetime"
   ]
  },
  {
   "cell_type": "code",
   "execution_count": 3,
   "metadata": {},
   "outputs": [],
   "source": [
    "# Now, call the Quandl API and pull out a small sample of the data (only one day) to get a glimpse\n",
    "# into the JSON structure that will be returned\n",
    "test_request = requests.get(\"https://www.quandl.com/api/v3/datasets/FSE/AFX_X.json?start_date=2018-09-24&end_date=2018-09-25&api_key=zFWStsiY37zxSFxaceo7\")"
   ]
  },
  {
   "cell_type": "code",
   "execution_count": 4,
   "metadata": {},
   "outputs": [],
   "source": [
    "# Inspect the JSON structure of the object you created, and take note of how nested it is,\n",
    "# as well as the overall structure\n",
    "t = test_request.json()\n",
    "\n",
    "#t['dataset']['data'][0]\n",
    "\n",
    "#t_columns = t['dataset']['column_names']\n",
    "#t_data = t['dataset']['data']\n",
    "#print(str(t_columns[0]) + \": \" + str(t_data[0][0]) + \"\\n\" + str(t_columns[1]) + \": \"+ str(t_data[0][4]))"
   ]
  },
  {
   "cell_type": "markdown",
   "metadata": {},
   "source": [
    "These are your tasks for this mini project:\n",
    "\n",
    "1. Collect data from the Franfurt Stock Exchange, for the ticker AFX_X, for the whole year 2017 (keep in mind that the date format is YYYY-MM-DD).\n",
    "2. Convert the returned JSON object into a Python dictionary.\n",
    "3. Calculate what the highest and lowest opening prices were for the stock in this period.\n",
    "4. What was the largest change in any one day (based on High and Low price)?\n",
    "5. What was the largest change between any two days (based on Closing Price)?\n",
    "6. What was the average daily trading volume during this year?\n",
    "7. (Optional) What was the median trading volume during this year. (Note: you may need to implement your own function for calculating the median.)"
   ]
  },
  {
   "cell_type": "code",
   "execution_count": 5,
   "metadata": {},
   "outputs": [],
   "source": [
    "# Question 1\n",
    "# Get ticker data for AFX_X from the Frankfurt Stock Exchange for 2017\n",
    "\n",
    "r = requests.get(\"https://www.quandl.com/api/v3/datasets/FSE/AFX_X.json?start_date=2017-01-01&end_date=2017-12-31&api_key=zFWStsiY37zxSFxaceo7\")"
   ]
  },
  {
   "cell_type": "code",
   "execution_count": 6,
   "metadata": {},
   "outputs": [
    {
     "name": "stdout",
     "output_type": "stream",
     "text": [
      "Daily(Open=51.76, High=51.94, Low=51.45, Close=51.76, Change=None, Traded_Volume=34640.0, Turnover=1792304.0, Last_Price_of_the_Day=None, Daily_Traded_Units=None, Daily_Turnover=None)\n",
      "34640.0\n"
     ]
    }
   ],
   "source": [
    "# Question 2\n",
    "# Convert the JSON data to a Python dictionary\n",
    "\n",
    "# Note that I'm changing to an ordered dict of named tuples\n",
    "d = r.json()\n",
    "\n",
    "# in order to convert the dataset to an ordered dict of named tuples, some prep work:\n",
    "# create 'columns' and 'data' variables for easier lookup\n",
    "d_column_names = d['dataset']['column_names']\n",
    "d_data_rows = d['dataset']['data']\n",
    "\n",
    "# create a named tuple of daily data, for easier data retrieval\n",
    "# replace spaces with underscores in the names for the tuple\n",
    "# starting from element 1 in the column_names since element 0 is the date(will be the key)\n",
    "names_for_tuple = ' '.join([entry.replace(' ', '_') for entry in d_column_names[1:]])\n",
    "Daily = collections.namedtuple('Daily', names_for_tuple)\n",
    "\n",
    "# Convert the whole dataset to an ordered dict of named tuples\n",
    "# Each day's data is now in the format data['Date']\n",
    "data = collections.OrderedDict()\n",
    "for row in d_data_rows:\n",
    "    data[row[0]] = Daily(*row[1:])\n",
    "    \n",
    "#d_data_rows[0][0]\n",
    "print(data['2017-12-29'])\n",
    "print(data['2017-12-29'].Traded_Volume)"
   ]
  },
  {
   "cell_type": "code",
   "execution_count": 7,
   "metadata": {},
   "outputs": [
    {
     "name": "stdout",
     "output_type": "stream",
     "text": [
      "Highest Open: 53.11 on 2017-12-14\n",
      "Lowest Open: 34.0 on 2017-01-24\n"
     ]
    }
   ],
   "source": [
    "# Question 3\n",
    "# Highest and lowest opening prices\n",
    "\n",
    "def extract(dataset, start_date, end_date, att_name):\n",
    "    \"\"\"Extract a particular attribute over a period of time, from the given dataset.\n",
    "    Input: dataset, start and end dates, and the name of the attribute.\n",
    "    Output: a list of (attribute, date) tuples.\n",
    "    \"\"\"\n",
    "             \n",
    "    start = datetime.strptime(start_date, '%Y-%m-%d')\n",
    "    end = datetime.strptime(end_date, '%Y-%m-%d')\n",
    "    return_list = []\n",
    "    \n",
    "    try:\n",
    "        # Loop through dates in date order\n",
    "        # Convert dates to ordinal (integers) for range\n",
    "        for ordinal in range(start.toordinal(), end.toordinal()):\n",
    "\n",
    "            # Convert the integer back to a date for date calculations\n",
    "            day = datetime.strftime(datetime.fromordinal(ordinal), '%Y-%m-%d')\n",
    "        \n",
    "            if day in dataset:\n",
    "                return_list.append((getattr(dataset[day], att_name), day))\n",
    "        \n",
    "        # Pull out any None values before returning\n",
    "        return_list = [(x, y) for (x, y) in return_list if x is not None]\n",
    "        return return_list\n",
    "    \n",
    "    except:\n",
    "        print(\"Try again, checking your parameters:\")\n",
    "        print(\"Dataset, start date (YYYY-MM-DD), end date, attribute name.\")\n",
    "        \n",
    "open_data = extract(data, '2017-01-01', '2017-12-31', 'Open')\n",
    "open_data\n",
    "open_data.sort()\n",
    "low, low_date = open_data[0]\n",
    "high, high_date = open_data[-1]\n",
    "print('Highest Open: ' + str(round(high,2)) + \" on \" + high_date)\n",
    "print('Lowest Open: ' + str(round(low,2)) + \" on \" + low_date)"
   ]
  },
  {
   "cell_type": "code",
   "execution_count": 8,
   "metadata": {},
   "outputs": [
    {
     "name": "stdout",
     "output_type": "stream",
     "text": [
      "The largest change in any one day was 2.81 on 2017-05-11.\n"
     ]
    }
   ],
   "source": [
    "# Question 4\n",
    "# Largest change in any one day\n",
    "\n",
    "highs = extract(data, '2017-01-01', '2017-12-31', 'High')\n",
    "lows = extract(data, '2017-01-01', '2017-12-31', 'Low')\n",
    "b = list(zip(highs,lows))\n",
    "\n",
    "# Create a list of tuples: daily difference high - low and date, where the dates are the same\n",
    "diffs = [(t[0][0] - t[1][0], t[0][1]) for t in b if t[0][1] == t[1][1]]\n",
    "\n",
    "# Check that the lengths of the 3 lists are the same\n",
    "# Since we're comparing on date equality, this means that each list has exactly the same dates\n",
    "# print(str(len(highs)) + \" \" + str(len(lows)) + \" \" + str(len(diffs)))\n",
    "\n",
    "diffs.sort()\n",
    "big_change, day = diffs[-1]\n",
    "print(\"The largest change in any one day was \" + str(round(big_change,2)) + \" on \" + day + \".\")"
   ]
  },
  {
   "cell_type": "code",
   "execution_count": 9,
   "metadata": {},
   "outputs": [
    {
     "name": "stdout",
     "output_type": "stream",
     "text": [
      "The largest negative change was -2.56 on 2017-08-09.\n",
      "The largest positive change was 1.72 on 2017-05-11.\n"
     ]
    }
   ],
   "source": [
    "# Question 5\n",
    "# Largest change between any two days\n",
    "\n",
    "closes = extract(data, '2017-01-01', '2017-12-31', 'Close')\n",
    "z = list(zip(closes, closes[1:]))\n",
    "# Create a tuple of the change and the ending date\n",
    "changes = [(t[1][0] - t[0][0], t[1][1]) for t in z]\n",
    "changes.sort()\n",
    "big_neg, neg_date = changes[0]\n",
    "big_pos, pos_date = changes[-1]\n",
    "print('The largest negative change was ' + str(round(big_neg, 2)) + ' on ' + neg_date + '.')\n",
    "print('The largest positive change was ' + str(round(big_pos, 2)) + ' on ' + pos_date + '.')"
   ]
  },
  {
   "cell_type": "code",
   "execution_count": 10,
   "metadata": {},
   "outputs": [
    {
     "name": "stdout",
     "output_type": "stream",
     "text": [
      "The average volume for the year was: 89,124.34.\n"
     ]
    }
   ],
   "source": [
    "# Question 6\n",
    "# Average daily trading volume\n",
    "\n",
    "def average(list):\n",
    "    \"\"\"I could swear there's a list average in the standard library, but I didn't see one, so here's my own.\"\"\"\n",
    "    \n",
    "    if list == []:\n",
    "        return None\n",
    "    else:\n",
    "        return sum(list) / len(list)\n",
    "    \n",
    "volumes = extract(data, '2017-01-01', '2017-12-31', 'Traded_Volume')\n",
    "avg_volume = average([tup[0] for tup in volumes])\n",
    "print('The average volume for the year was: ' + \"{:,}\".format(round(avg_volume,2)) + '.')"
   ]
  },
  {
   "cell_type": "code",
   "execution_count": 11,
   "metadata": {},
   "outputs": [
    {
     "name": "stdout",
     "output_type": "stream",
     "text": [
      "The median volume for the year was: 134,965.0.\n"
     ]
    }
   ],
   "source": [
    "# Question 7\n",
    "# Median trading volume\n",
    "\n",
    "def median(list):\n",
    "    \"\"\"Median of a list, where the median for an even-length list is the average of the two median values.\n",
    "    Input: a list.\n",
    "    Output: None for an empty list, or the median (for an even-length list, the average of the two median values).\n",
    "    \"\"\"\n",
    "    \n",
    "    if list == []:\n",
    "        return None\n",
    "    else:\n",
    "        length = len(list)\n",
    "        if length % 2 == 0:\n",
    "            return (list[length // 2 - 1] + list[length // 2]) / 2\n",
    "        else:\n",
    "            return list[length // 2]\n",
    "\n",
    "        \n",
    "volumes = extract(data, '2017-01-01', '2017-12-31', 'Traded_Volume')\n",
    "median_volume = median([tup[0] for tup in volumes])\n",
    "print('The median volume for the year was: ' + \"{:,}\".format(round(median_volume,2)) + '.')"
   ]
  }
 ],
 "metadata": {
  "kernelspec": {
   "display_name": "Python 3",
   "language": "python",
   "name": "python3"
  },
  "language_info": {
   "codemirror_mode": {
    "name": "ipython",
    "version": 3
   },
   "file_extension": ".py",
   "mimetype": "text/x-python",
   "name": "python",
   "nbconvert_exporter": "python",
   "pygments_lexer": "ipython3",
   "version": "3.7.0"
  }
 },
 "nbformat": 4,
 "nbformat_minor": 2
}
