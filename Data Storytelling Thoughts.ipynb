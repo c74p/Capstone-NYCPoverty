{
 "cells": [
  {
   "cell_type": "markdown",
   "metadata": {},
   "source": [
    "# Data Storytelling Thoughts\n",
    "\n",
    "## Raw Input variables:\n",
    "'AGEP', 'Boro', 'CIT', 'DIS', 'ENG', 'ESR', 'Ethnicity', 'HHT', 'HIUnit_Head', 'HousingStatus', \n",
    "'JWTR', 'LANX', 'MAR', 'MSP','NP', 'Off_Threshold', 'PreTaxIncome_PU', 'REL', 'SCH',  'SCHG', 'SCHL', 'SEX',  'TEN', 'WKHP', 'WKW', 'Year'\n",
    "\n",
    "## Identifier variables:\n",
    "'HIUnit_ID', 'Povunit_ID', 'PWGTP', 'SERIALNO', 'SNAPUnit_ID', 'SPORDER', 'TaxUnit_ID', 'WGTP'\n",
    "\n",
    "## ACS Calculated Input variables:\n",
    "'AgeCateg', 'INTP_adj', 'OI_adj', 'MRGP_adj', 'PA_adj', 'RETP_adj', 'RNTP_adj', 'SEMP_adj', 'SSIP_adj', 'SSP_adj',  'WAGP_adj'\n",
    "     \n",
    "## NYC Calculated Input variables:\n",
    "'CitizenStatus',  'EducAttain', 'FTPTWork', 'FamType_PU', 'NYCgov_Childcare', 'NYCgov_Commuting', 'NYCgov_EITC', 'NYCgov_FICAtax', 'NYCgov_HEAP', 'NYCgov_Housing', 'NYCgov_Income', 'NYCgov_IncomeTax', 'NYCgov_MOOP', 'NYCgov_MedPremiums', 'NYCgov_MedSpending', 'NYCgov_Nutrition', 'NYCgov_REL', 'NYCgov_SFN', 'NYCgov_SFR', 'NYCgov_SNAP', 'NYCgov_SchoolBreakfast', 'NYCgov_SchoolLunch', 'NYCgov_Threshold', 'NYCgov_WIC', 'Povunit_Rel', 'SNAPUnit_Rel',  'TaxUnit_FILER', 'TaxUnit_FILESTAT', 'TaxUnit_FILETYPE', 'TaxUnit_Rel', 'TotalWorkHrs_PU'\n",
    "\n",
    "## Output variables:\n",
    "'NYCgov_PovGap', 'NYCgov_Pov_Stat', 'NYCgov_PovGapIndex', 'Off_Pov_Stat' "
   ]
  },
  {
   "cell_type": "markdown",
   "metadata": {},
   "source": [
    "***\n",
    "## Expectations:\n",
    "- Among raw inputs, PreTaxIncome most strongly correlated with poverty; but other than that, SCHL/SCH/SCHG and WKW/WKHP/ESR should be as well\n",
    "    - Expect to be strongly correlated (absolute value):\n",
    "        - CIT, DIS, ENG/LANX, HousingStatus, MAR/MSP, NP, REL, SEX, TEN\n",
    "    - Expect to be somewhat correlated (absolute value):\n",
    "        - AGEP, Boro, Ethnicity, HHT, JWTR, \n",
    "    - Expect to be weakly correlated (absolute value):\n",
    "        - HIUnit_Head, Year\n",
    "- Expect the identifier variables to be not-at-all correlated with poverty\n",
    "- Among ACS calculated inputs:\n",
    "    - Expect the PA to have strongest correlations with poverty (absolute value)\n",
    "    - Expect the WAGP, INTP, and SEMP to have the next strongest correlations with poverty (absolute value)\n",
    "    - Expect the SSP, SSIP to have the next strongest\n",
    "    - Expect the others to have relatively weaker correlation\n",
    "- Among the NYC calculated inputs:\n",
    "    - Expect the Income and IncomeTax to have strongest abs correlation\n",
    "    - Expect all the assistance variables to have strong to weak correlation in this order:\n",
    "        - Housing, MOOP, MedSpending, MedPremiums, WIC, SNAP, SchoolLunch, SchoolBreakfast, Nutrition, HEAP\n",
    "    - Expect the tax variables to have strong to weak correlation in this order:\n",
    "        - FICAtax, EITC, Childcare, Commuting"
   ]
  },
  {
   "cell_type": "markdown",
   "metadata": {},
   "source": [
    "*** \n",
    "## Questions:\n",
    "- Can we create a statistic that shows cost per person?  \n",
    "- Can we base a meaningful statistic based on average income?\n",
    "- Can we create an estimate of cost to alleviate x% of poverty?\n",
    "- How much would we have to allocate for future budgets to maintain parity? To meet stated goals? To exceed stated goals?\n",
    "- How (and how much) can the city/state/federal government maximize their dollars in combating and alleviating poverty?\n",
    "- Which factors play the largest roles in poverty?\n",
    "    - Costs: housing, food, health care, child care, basic necessities, travel time & cost\n",
    "    - Revenues: wages, cash assistance, non-cash assistance\n",
    "- How much does the minimum wage impact poverty? (Minimum wage changed during certain years of the dataset)\n",
    "    - Other non-poverty effects of minimum wage are outside of scope\n",
    "- How do hourly wages versus hours worked impact the picture?\n",
    "- Is “simply working more hours” a viable alternative? How likely is one to get a higher-paying job, or a job with better benefits (especially health care)?\n",
    "- Demographics: education level, English proficiency, household size/composition\n",
    "    - In particular, if education level or English proficiency are lacking, how much would a “step up” to the next level impact poverty?\n",
    "- How much do larger economic trends impact the overall picture? (Not in scope currently)\n",
    "- How and how much can a person/”poverty unit”/household achieve long-term independence from poverty and near-poverty?\n",
    "    - How can governmental policies support them?\n",
    "- How much does poverty vary between the various boroughs of New York City, and why?  What can we learn from the differences?\n",
    "- How can we “productize” this research to take advantage of future volumes of these annual datasets?\n",
    "- Additional questions that the available data may not address sufficiently but may be worth considering:\n",
    "    - What needs exist that NGOs may attempt to address, that are not currently being addressed or that may grow in the future?\n",
    "    - How should dollars be invested in alleviating the impacts of poverty, versus addressing the root causes?  Does the data support the validity of even asking this question in this way?\n",
    "    - How much does a dollar invested in business-growth incentives compare to, say, a dollar invested in a jobs-training program in addressing poverty?\n",
    "    - A common American perspective (in contrast to some other cultures) depicts the poor as lazy. What can we draw from the data to enrich or illuminate this perspective?\n"
   ]
  }
 ],
 "metadata": {
  "kernelspec": {
   "display_name": "Python 3",
   "language": "python",
   "name": "python3"
  },
  "language_info": {
   "codemirror_mode": {
    "name": "ipython",
    "version": 3
   },
   "file_extension": ".py",
   "mimetype": "text/x-python",
   "name": "python",
   "nbconvert_exporter": "python",
   "pygments_lexer": "ipython3",
   "version": "3.7.0"
  }
 },
 "nbformat": 4,
 "nbformat_minor": 2
}
