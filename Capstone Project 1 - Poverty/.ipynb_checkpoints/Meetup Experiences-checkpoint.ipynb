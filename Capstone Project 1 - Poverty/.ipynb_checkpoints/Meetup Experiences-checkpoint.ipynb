{
 "cells": [
  {
   "cell_type": "markdown",
   "metadata": {},
   "source": [
    "# My Meetup Experiences Thus Far\n",
    "\n",
    "## Overview\n",
    "\n",
    "I've joined 3 or 4 groups, and I've attended 3 meetings this week.  As discussed with my mentor Srdjan, I'm attending as wide a variety of meetups as I reasonably can at first, so I can choose a couple to focus on that will be the best fit.\n",
    "\n",
    "In the Cleveland/Akron area, the options are more limited than in some other metros, so I may have to use some \"elbow grease\" to drive some networking efforts.  I may try to use some local networking groups as needed (there used to be a local chamber of commerce-run \"Northeast Ohio Software Association that seems to now be defunct or dormant, there's a \"Hack Cleveland\" group of hackers for public good that may be of interest, etc.)\n",
    "\n",
    "## Groups joined so far\n",
    "- Cleveland Artificial Intelligence Group\n",
    "    - Doing the fast.ai \"Practical Deep Learning For Coders, Part 1\" course (7 lessons in 7 weeks).  \n",
    "- Greater Cleveland Python/Julia/R Data Science Group\n",
    "    - Will do a \"Let's do a Kaggle challenge\" meeting this Saturday\n",
    "- Cleveland Big Data and Hadoop User Group\n",
    "    - Will be working on the NASA SpaceApps hackathon one weekend in October. \n",
    "- Open Cleveland\n",
    "    - Civic hacking group\n",
    "\n",
    "## Meetings so far\n",
    "- The first week of the \"Practical Deep Learning for Coders\" course.  \n",
    "    - ~45 people, classroom format.\n",
    "    - Slower networking but good coursework\n",
    "    - I'll continue for learning and eventual networking\n",
    "- A talk given by a local 2-person data science consulting company.  \n",
    "    - Designed to drive interest for a 3-day data science overview course given by a local boot camp \n",
    "    - Useful to hear their perspective and consider the consulting angle as a possible area to pursue with my career (not my primary interest right now, but useful to keep in the back of my mind nonetheless).\n",
    "- The local open-source group.  \n",
    "    - This particular meeting was just a presentation - not what I expected\n",
    "    - I'll go back and refocus on the local data angle\n",
    "\n",
    "## Upcoming meetings:\n",
    "- A Saturday \"Let's do a Kaggle challenge\" group -- seems like this will be more data scientists, and more focused, so hopefully it will be good.\n",
    "- A weekend hackathon as part of the NASA SpaceApps challenge.  Not sure how much of it will be data science/analytics, but it was referenced by the Cleveland Big Data and Hadoop user group.\n",
    "\n",
    "## The future\n",
    "- Pick a few to stick with based on networking and best use of my time\n",
    "- Supplement as needed/available with other local business groups or networking nights"
   ]
  }
 ],
 "metadata": {
  "kernelspec": {
   "display_name": "Python 3",
   "language": "python",
   "name": "python3"
  },
  "language_info": {
   "codemirror_mode": {
    "name": "ipython",
    "version": 3
   },
   "file_extension": ".py",
   "mimetype": "text/x-python",
   "name": "python",
   "nbconvert_exporter": "python",
   "pygments_lexer": "ipython3",
   "version": "3.7.0"
  }
 },
 "nbformat": 4,
 "nbformat_minor": 2
}
