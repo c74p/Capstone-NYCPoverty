{
 "cells": [
  {
   "cell_type": "code",
   "execution_count": 1,
   "metadata": {},
   "outputs": [],
   "source": [
    "# imports and setup\n",
    "from os import listdir\n",
    "import numpy as np\n",
    "import pandas as pd\n",
    "import matplotlib.pyplot as plt\n",
    "import seaborn as sns\n",
    "%matplotlib inline"
   ]
  },
  {
   "cell_type": "code",
   "execution_count": 2,
   "metadata": {},
   "outputs": [
    {
     "data": {
      "text/plain": [
       "779223"
      ]
     },
     "execution_count": 2,
     "metadata": {},
     "output_type": "execute_result"
    }
   ],
   "source": [
    "df = pd.read_csv('data/all_years.csv', index_col=0)\n",
    "len(df)"
   ]
  },
  {
   "cell_type": "code",
   "execution_count": 3,
   "metadata": {},
   "outputs": [
    {
     "name": "stdout",
     "output_type": "stream",
     "text": [
      "Number of columns in groups: 80\n",
      "Total columns in dataframe: 80\n",
      "Set of all dataframe columns that don't appear in a group: set()\n"
     ]
    }
   ],
   "source": [
    "# Group the columns into 1) raw input variables, 2) id variables of various things, 3) American Community Survey (census)\n",
    "# variables, 4) NYC government-calculated variables, and 5) output variables.\n",
    "#\n",
    "# The ACS and NYC variables are generally calculated from the raw input variables - my initial expectation is that\n",
    "# the raw input variables can be thought of as independent variables, and that the ACS and NYC variables are not\n",
    "# independent even though they are not output variables.\n",
    "\n",
    "raw_inp_vars = ['AGEP', 'Boro', 'CIT', 'DIS', 'ENG', 'ESR', 'Ethnicity', 'HHT', 'HIUnit_Head', 'HousingStatus', 'JWTR', 'LANX', 'MAR', 'MSP','NP', 'Off_Threshold', 'PreTaxIncome_PU', 'REL', 'SCH', 'SCHG', 'SCHL', 'SEX', 'TEN', 'WKHP', 'WKW', 'Year']\n",
    "\n",
    "# Further group raw_inp_vars: a list of categories that will need to be bucketed for visualization, and those that won't\n",
    "bucket_raw = ['AGEP', 'Off_Threshold', 'PreTaxIncome_PU', 'WKHP']\n",
    "ok_raw = [var for var in raw_inp_vars if var not in bucket_raw]\n",
    "\n",
    "id_vars = ['HIUnit_ID', 'Povunit_ID', 'PWGTP', 'SERIALNO', 'SNAPUnit_ID', 'SPORDER', 'TaxUnit_ID', 'WGTP']\n",
    "\n",
    "acs_vars = ['AgeCateg', 'INTP_adj', 'OI_adj', 'MRGP_adj', 'PA_adj', 'RETP_adj', 'RNTP_adj', 'SEMP_adj', 'SSIP_adj', 'SSP_adj',  'WAGP_adj']\n",
    "\n",
    "nyc_vars = ['CitizenStatus',  'EducAttain', 'FTPTWork', 'FamType_PU', 'NYCgov_Childcare', 'NYCgov_Commuting', 'NYCgov_EITC', 'NYCgov_FICAtax', 'NYCgov_HEAP', 'NYCgov_Housing', 'NYCgov_Income', 'NYCgov_IncomeTax', 'NYCgov_MOOP', 'NYCgov_MedPremiums', 'NYCgov_MedSpending', 'NYCgov_Nutrition', 'NYCgov_REL', 'NYCgov_SFN', 'NYCgov_SFR', 'NYCgov_SNAP', 'NYCgov_SchoolBreakfast', 'NYCgov_SchoolLunch', 'NYCgov_Threshold', 'NYCgov_WIC', 'Povunit_Rel', 'SNAPUnit_Rel',  'TaxUnit_FILER', 'TaxUnit_FILESTAT', 'TaxUnit_FILETYPE', 'TaxUnit_Rel', 'TotalWorkHrs_PU']\n",
    "\n",
    "output_vars = ['NYCgov_PovGap', 'NYCgov_Pov_Stat', 'NYCgov_PovGapIndex', 'Off_Pov_Stat']\n",
    "\n",
    "all_columns = raw_inp_vars + id_vars + acs_vars + nyc_vars + output_vars\n",
    "\n",
    "print('Number of columns in groups: ' + str(len(all_columns)))\n",
    "print('Total columns in dataframe: ' + str(len(df.columns)))\n",
    "# Double-check that all of the columns in the dataframe are assigned to one and only one group\n",
    "print(\"Set of all dataframe columns that don't appear in a group: \" + str(set(df.columns).difference(set(all_columns))))"
   ]
  },
  {
   "cell_type": "code",
   "execution_count": null,
   "metadata": {},
   "outputs": [],
   "source": [
    "sns.distplot(df.AGEP, bins=20, kde=False, rug=False)"
   ]
  },
  {
   "cell_type": "code",
   "execution_count": null,
   "metadata": {},
   "outputs": [],
   "source": [
    "column = 'AGEP'\n",
    "weight = 'PWGTP'\n",
    "denominator = df[weight].sum()/len(df)\n",
    "# create new column of weighted values\n",
    "df['NewCol'] = (df[column] * df[weight])/ denominator\n",
    "# create a Series of weighted values of interest (some weighted values are outliers)\n",
    "counts = df.loc[df['NewCol'] < 100, 'NewCol']\n",
    "counts.name = 'Weighted Ages'\n",
    "sns.distplot(counts, bins=10, kde=False, rug=False)\n",
    "# delete the weighted-value column - both to keep the data set manageable, and because we'll be reusing this code later\n",
    "del(df['NewCol'])"
   ]
  },
  {
   "cell_type": "code",
   "execution_count": null,
   "metadata": {},
   "outputs": [],
   "source": [
    "sns.distplot(df.Off_Threshold, bins=20, kde=False, rug=False)"
   ]
  },
  {
   "cell_type": "code",
   "execution_count": null,
   "metadata": {},
   "outputs": [],
   "source": [
    "column = 'Off_Threshold'\n",
    "weight = 'WGTP'\n",
    "denominator = df[weight].sum()/len(df)\n",
    "df['NewCol'] = (df[column] * df[weight])/ denominator\n",
    "counts = df['NewCol']\n",
    "counts.name = 'Weighted Off_Threshold'\n",
    "sns.distplot(counts, bins=30, kde=False, rug=False)\n",
    "del(df['NewCol'])"
   ]
  },
  {
   "cell_type": "code",
   "execution_count": null,
   "metadata": {},
   "outputs": [],
   "source": [
    "sns.distplot(df.PreTaxIncome_PU, bins=20, kde=False, rug=False)"
   ]
  },
  {
   "cell_type": "code",
   "execution_count": null,
   "metadata": {},
   "outputs": [],
   "source": [
    "column = 'PreTaxIncome_PU'\n",
    "weight = 'WGTP'\n",
    "denominator = df[weight].sum()/len(df)\n",
    "df['NewCol'] = (df[column] * df[weight])/ denominator\n",
    "counts = df['NewCol']\n",
    "counts.name = 'Weighted PreTaxIncome_PU'\n",
    "sns.distplot(counts, bins=30, kde=False, rug=False)\n",
    "del(df['NewCol'])"
   ]
  },
  {
   "cell_type": "code",
   "execution_count": null,
   "metadata": {},
   "outputs": [],
   "source": [
    "sns.distplot(df.WKHP, bins=20, kde=False, rug=False)"
   ]
  },
  {
   "cell_type": "code",
   "execution_count": null,
   "metadata": {},
   "outputs": [],
   "source": [
    "column = 'WKHP'\n",
    "weight = 'PWGTP'\n",
    "denominator = df[weight].sum()/len(df)\n",
    "df['NewCol'] = (df[column] * df[weight])/ denominator\n",
    "counts = df['NewCol']\n",
    "counts.name = 'Weighted WKHP'\n",
    "sns.distplot(counts, bins=20, kde=False, rug=False)\n",
    "del(df['NewCol'])"
   ]
  },
  {
   "cell_type": "code",
   "execution_count": null,
   "metadata": {},
   "outputs": [],
   "source": [
    "# Create codes for the raw input variables that are number-coded, so we can create charts that make sense\n",
    "raw_codes = {'Boro': {1: 'Bronx', 2: 'Brooklyn', 3: 'Manhattan', 4: 'Queens', 5: 'Staten Island'},\n",
    "         'CIT': {1: 'USA', 2: 'Territories', 3: 'US Parents', 4: 'Naturalized', 5: 'No'},\n",
    "         'DIS': {1: 'Yes', 2: 'No'},\n",
    "         'ENG': {0: '<5', 1: 'Very Well', 2: 'Well', 3: 'Not well', 4: 'Not at all', 5: 'Only Eng'},\n",
    "         'ESR': {0: '<16', 1: 'EMP', 2:'EMP/NAW', 3: 'UNEMP', 4: 'AF', 5: 'AF/NAW', 6:'NILF'},\n",
    "         'Ethnicity': {1: 'White', 2: 'Black', 3: 'Asian', 4: 'Hispanic', 5: 'Other'},\n",
    "         'HHT': {0: 'NA', 1: 'MAR', 2: 'MNW', 3: 'WNM', 4: 'Malone', 5: 'MNAlone', 6: 'Walone', 7: 'WNalone'},\n",
    "         'HIUnit_Head': {0: 'Not Head', 1: 'Head', 2: 'Not Head'},\n",
    "         'HousingStatus': {1: 'Public', 2: 'Mitchell', 3: 'Subsidy', 4: 'Regulated', 5: 'OtherReg', 6: 'MarketRate', 7: 'NoCash', 8: 'OwnF&C', 9: 'Own-Mortgage'},\n",
    "         'JWTR': {0: 'NA', 1: 'Car', 2: 'Bus', 3:'Streetcar', 4:'Subway', 5:'RR', 6:'Ferry', 7:'Taxi', 8:'Motorcycle', 9:'Bike', 10:'Walk', 11:'Home', 12: 'Other'},\n",
    "         'LANX': {0: 'NA', 1: 'Yes', 2: 'Only Eng'},\n",
    "         'MAR': {1: 'Married', 2:'Widowed', 3:'Divorced', 4:'Separated', 5:'Never Married'},\n",
    "         'MSP': {0: 'NA', 1: 'Yes', 2:'Spouse absent', 3:'Widowed', 4:'Divorced', 5:'Separated', 6:'Never Married'},\n",
    "         'NP': {},\n",
    "         'REL': {0: 'Self', 1:'Spouse', 2:'Child', 3:'Adopted', 4:'Stepchild', 5:'Sibling', 6:'Parent', 7:'Grandchild', 8:'Parent-in-law', 9:'Child-in-law', 10:'Other', 11:'Boarder', 12:'Roommate', 13:'Partner', 14:'Foster', 15:'OtherNR', 16:'Inst', 17:'NonInst'},\n",
    "         'SCH': {0: 'NA', 1: 'NoPast3Mos', 2:'Public', 3:'Private/Home'},\n",
    "         'SCHG': {0: 'NA', 1:'Preschool', 2:'Kindergarten', 3:'1', 4:'2', 5:'3', 6:'4', 7:'5', 8:'6', 9:'7', 10:'8', 11:'9', 12:'10', 13:'11', 14:'12', 15:'College', 16:'Grad school'},\n",
    "         'SCHL': {0: 'NA', 1:'None', 2:'Preschool', 3:'Kindergarten', 4:'1', 5:'2', 6:'3', 7:'4', 8:'5', 9:'6', 10:'7', 11:'8', 12:'9', 13:'10', 14:'11', 15:'12-NoDip', 16:'Diploma', 17:'GED', 18:'<1yrCollege', 19:'CollNoDegree', 20:'Associates', 21:'Bachelors', 22:'Masters', 23:'Professional', 24:'Doctorate'},\n",
    "         'SEX': {1:'Male', 2:'Female'},\n",
    "         'TEN': {0: 'NA', 1:'Mortage', 2:'Free&Clear', 3:'Rent', 4:'OccButNoRent'},\n",
    "         'WKW': {0:'NA', 1:'50-52', 2:'48-49', 3:'40-47', 4:'27-39', 5:'14-26', 6:'<13'},\n",
    "         'Year': {}\n",
    "        }"
   ]
  },
  {
   "cell_type": "code",
   "execution_count": null,
   "metadata": {},
   "outputs": [],
   "source": [
    "n = 0\n",
    "group = ok_raw\n",
    "if group[n] in raw_codes.keys():\n",
    "    counts = df[group[n]].copy()\n",
    "    counts.replace(raw_codes[group[n]], inplace=True)\n",
    "    sns.countplot(counts, order=raw_codes[group[n]].values())\n",
    "else:\n",
    "    sns.distplot(df[group[n]], bins=10, kde=False, rug=False)"
   ]
  },
  {
   "cell_type": "code",
   "execution_count": null,
   "metadata": {},
   "outputs": [],
   "source": [
    "column = 'Boro'\n",
    "weight = 'PWGTP'\n",
    "denominator = df[weight].sum()/len(df)\n",
    "bronx = df.loc[df[column] == 1, weight].sum() / denominator\n",
    "brooklyn = df.loc[df[column] == 2, weight].sum() / denominator\n",
    "manhattan = df.loc[df[column] == 3, weight].sum() / denominator\n",
    "queens = df.loc[df[column] == 4, weight].sum() / denominator\n",
    "staten_island = df.loc[df[column] == 5, weight].sum() / denominator\n",
    "all = pd.Series([bronx, brooklyn, manhattan, queens, staten_island], name='Boro')\n",
    "plt = all.plot(kind='bar', title='Weighted Boro')\n",
    "plt.set_xticklabels(['Bronx', 'Brooklyn', 'Manhattan', 'Queens', 'Staten Island'])\n",
    "pass"
   ]
  },
  {
   "cell_type": "code",
   "execution_count": null,
   "metadata": {},
   "outputs": [],
   "source": [
    "n = 1\n",
    "group = ok_raw\n",
    "if group[n] in raw_codes.keys():\n",
    "    counts = df[group[n]].copy()\n",
    "    counts.replace(raw_codes[group[n]], inplace=True)\n",
    "    sns.countplot(counts, order=raw_codes[group[n]].values())\n",
    "else:\n",
    "    sns.distplot(df[group[n]], bins=10, kde=False, rug=False)"
   ]
  },
  {
   "cell_type": "code",
   "execution_count": null,
   "metadata": {},
   "outputs": [],
   "source": [
    "n = 2\n",
    "group = ok_raw\n",
    "if group[n] in raw_codes.keys():\n",
    "    counts = df[group[n]].copy()\n",
    "    counts.replace(raw_codes[group[n]], inplace=True)\n",
    "    sns.countplot(counts, order=raw_codes[group[n]].values())\n",
    "else:\n",
    "    sns.distplot(df[group[n]], bins=10, kde=False, rug=False)"
   ]
  },
  {
   "cell_type": "code",
   "execution_count": null,
   "metadata": {},
   "outputs": [],
   "source": [
    "n = 3\n",
    "group = ok_raw\n",
    "if group[n] in raw_codes.keys():\n",
    "    counts = df[group[n]].copy()\n",
    "    counts.replace(raw_codes[group[n]], inplace=True)\n",
    "    sns.countplot(counts, order=raw_codes[group[n]].values())\n",
    "else:\n",
    "    sns.distplot(df[group[n]], bins=10, kde=False, rug=False)"
   ]
  },
  {
   "cell_type": "code",
   "execution_count": null,
   "metadata": {},
   "outputs": [],
   "source": [
    "column = 'ENG'\n",
    "weight = 'PWGTP'\n",
    "denominator = df[weight].sum()/len(df)\n",
    "u5 = df.loc[df[column] == 0, weight].sum() / denominator\n",
    "vwell = df.loc[df[column] == 1, weight].sum() / denominator\n",
    "well = df.loc[df[column] == 2, weight].sum() / denominator\n",
    "notwell = df.loc[df[column] == 3, weight].sum() / denominator\n",
    "notatall = df.loc[df[column] == 4, weight].sum() / denominator\n",
    "only_eng = df.loc[df[column] == 5, weight].sum() / denominator\n",
    "all = pd.Series([u5, vwell, well, notwell, notatall, only_eng], name='ENG')\n",
    "plt = all.plot(kind='bar', title='Weighted ENG')\n",
    "plt.set_xticklabels(['<5', 'Very Well', 'Well', 'Not well', 'Not at all', 'Only Eng'])\n",
    "pass"
   ]
  },
  {
   "cell_type": "code",
   "execution_count": null,
   "metadata": {},
   "outputs": [],
   "source": [
    "n = 4\n",
    "group = ok_raw\n",
    "if group[n] in raw_codes.keys():\n",
    "    counts = df[group[n]].copy()\n",
    "    counts.replace(raw_codes[group[n]], inplace=True)\n",
    "    sns.countplot(counts, order=raw_codes[group[n]].values())\n",
    "else:\n",
    "    sns.distplot(df[group[n]], bins=10, kde=False, rug=False)"
   ]
  },
  {
   "cell_type": "code",
   "execution_count": null,
   "metadata": {},
   "outputs": [],
   "source": [
    "n = 5\n",
    "group = ok_raw\n",
    "if group[n] in raw_codes.keys():\n",
    "    counts = df[group[n]].copy()\n",
    "    counts.replace(raw_codes[group[n]], inplace=True)\n",
    "    sns.countplot(counts, order=raw_codes[group[n]].values())\n",
    "else:\n",
    "    sns.distplot(df[group[n]], bins=10, kde=False, rug=False)"
   ]
  },
  {
   "cell_type": "code",
   "execution_count": null,
   "metadata": {},
   "outputs": [],
   "source": [
    "column = 'Ethnicity'\n",
    "weight = 'PWGTP'\n",
    "denominator = df[weight].sum()/len(df)\n",
    "white = df.loc[df[column] == 1, weight].sum() / denominator\n",
    "black = df.loc[df[column] == 2, weight].sum() / denominator\n",
    "asian = df.loc[df[column] == 3, weight].sum() / denominator\n",
    "hispanic = df.loc[df[column] == 4, weight].sum() / denominator\n",
    "other = df.loc[df[column] == 5, weight].sum() / denominator\n",
    "labels = [v for v in raw_codes[column].values()]\n",
    "all = pd.Series([white, black, asian, hispanic, other], name='Ethnicity')\n",
    "plt = all.plot(kind='bar', title='Weighted Ethnicity')\n",
    "plt.set_xticklabels(labels)\n",
    "pass"
   ]
  },
  {
   "cell_type": "code",
   "execution_count": null,
   "metadata": {},
   "outputs": [],
   "source": [
    "n = 6\n",
    "group = ok_raw\n",
    "if group[n] in raw_codes.keys():\n",
    "    counts = df[group[n]].copy()\n",
    "    counts.replace(raw_codes[group[n]], inplace=True)\n",
    "    sns.countplot(counts, order=raw_codes[group[n]].values())\n",
    "else:\n",
    "    sns.distplot(df[group[n]], bins=10, kde=False, rug=False)"
   ]
  },
  {
   "cell_type": "code",
   "execution_count": null,
   "metadata": {},
   "outputs": [],
   "source": [
    "n = 7\n",
    "group = ok_raw\n",
    "if group[n] in raw_codes.keys():\n",
    "    counts = df[group[n]].copy()\n",
    "    counts.replace(raw_codes[group[n]], inplace=True)\n",
    "    sns.countplot(counts, order=raw_codes[group[n]].values())\n",
    "else:\n",
    "    sns.distplot(df[group[n]], bins=10, kde=False, rug=False)"
   ]
  },
  {
   "cell_type": "code",
   "execution_count": null,
   "metadata": {},
   "outputs": [],
   "source": [
    "n = 8\n",
    "group = ok_raw\n",
    "if group[n] in raw_codes.keys():\n",
    "    counts = df[group[n]].copy()\n",
    "    counts.replace(raw_codes[group[n]], inplace=True)\n",
    "    sns.countplot(y=counts, order=raw_codes[group[n]].values())\n",
    "else:\n",
    "    sns.distplot(df[group[n]], bins=10, kde=False, rug=False)"
   ]
  },
  {
   "cell_type": "code",
   "execution_count": null,
   "metadata": {},
   "outputs": [],
   "source": [
    "column = 'HousingStatus'\n",
    "weight = 'WGTP'\n",
    "denominator = df[weight].sum()/len(df)\n",
    "public = df.loc[df[column] == 1, weight].sum() / denominator\n",
    "mitchell = df.loc[df[column] == 2, weight].sum() / denominator\n",
    "subsidy = df.loc[df[column] == 3, weight].sum() / denominator\n",
    "regulated = df.loc[df[column] == 4, weight].sum() / denominator\n",
    "other_reg = df.loc[df[column] == 5, weight].sum() / denominator\n",
    "market_rate = df.loc[df[column] == 6, weight].sum() / denominator\n",
    "no_cash = df.loc[df[column] == 7, weight].sum() / denominator\n",
    "own = df.loc[df[column] == 8, weight].sum() / denominator\n",
    "mortgage = df.loc[df[column] == 9, weight].sum() / denominator\n",
    "labels = [v for v in raw_codes[column].values()]\n",
    "all = pd.Series([public, mitchell, subsidy, regulated, other_reg, market_rate, no_cash, own, mortgage], name='HousingStatus')\n",
    "plt = all.plot(kind='barh', title='Weighted HousingStatus')\n",
    "plt.set_yticklabels(labels)\n",
    "pass"
   ]
  },
  {
   "cell_type": "code",
   "execution_count": null,
   "metadata": {},
   "outputs": [],
   "source": [
    "n = 9\n",
    "group = ok_raw\n",
    "if group[n] in raw_codes.keys():\n",
    "    counts = df[group[n]].copy()\n",
    "    counts.replace(raw_codes[group[n]], inplace=True)\n",
    "    sns.countplot(counts, order=raw_codes[group[n]].values())\n",
    "else:\n",
    "    sns.distplot(df[group[n]], bins=10, kde=False, rug=False)"
   ]
  },
  {
   "cell_type": "code",
   "execution_count": null,
   "metadata": {},
   "outputs": [],
   "source": [
    "n = 10\n",
    "group = ok_raw\n",
    "if group[n] in raw_codes.keys():\n",
    "    counts = df[group[n]].copy()\n",
    "    counts.replace(raw_codes[group[n]], inplace=True)\n",
    "    sns.countplot(counts, order=raw_codes[group[n]].values())\n",
    "else:\n",
    "    sns.distplot(df[group[n]], bins=10, kde=False, rug=False)"
   ]
  },
  {
   "cell_type": "code",
   "execution_count": null,
   "metadata": {},
   "outputs": [],
   "source": [
    "n = 11\n",
    "group = ok_raw\n",
    "if group[n] in raw_codes.keys():\n",
    "    counts = df[group[n]].copy()\n",
    "    counts.replace(raw_codes[group[n]], inplace=True)\n",
    "    sns.countplot(counts, order=raw_codes[group[n]].values())\n",
    "else:\n",
    "    sns.distplot(df[group[n]], bins=10, kde=False, rug=False)"
   ]
  },
  {
   "cell_type": "code",
   "execution_count": null,
   "metadata": {},
   "outputs": [],
   "source": [
    "column = 'MAR'\n",
    "weight = 'WGTP'\n",
    "denominator = df[weight].sum()/len(df)\n",
    "married = df.loc[df[column] == 1, weight].sum() / denominator\n",
    "widowed = df.loc[df[column] == 2, weight].sum() / denominator\n",
    "divorced = df.loc[df[column] == 3, weight].sum() / denominator\n",
    "separated = df.loc[df[column] == 4, weight].sum() / denominator\n",
    "never_married = df.loc[df[column] == 5, weight].sum() / denominator\n",
    "labels = [v for v in raw_codes[column].values()]\n",
    "all = pd.Series([married, widowed, divorced, separated, never_married], name='MAR')\n",
    "plt = all.plot(kind='bar', title='Weighted MAR')\n",
    "plt.set_xticklabels(labels)\n",
    "pass"
   ]
  },
  {
   "cell_type": "code",
   "execution_count": null,
   "metadata": {},
   "outputs": [],
   "source": [
    "n = 12\n",
    "group = ok_raw\n",
    "if group[n] in raw_codes.keys():\n",
    "    counts = df[group[n]].copy()\n",
    "    counts.replace(raw_codes[group[n]], inplace=True)\n",
    "    sns.countplot(counts, order=raw_codes[group[n]].values())\n",
    "else:\n",
    "    sns.distplot(df[group[n]], bins=10, kde=False, rug=False)"
   ]
  },
  {
   "cell_type": "code",
   "execution_count": null,
   "metadata": {},
   "outputs": [],
   "source": [
    "n = 13\n",
    "group = ok_raw\n",
    "if group[n] in raw_codes.keys() and raw_codes[group[n]] != {}:\n",
    "    counts = df[group[n]].copy()\n",
    "    counts.replace(raw_codes[group[n]], inplace=True)\n",
    "    sns.countplot(counts, order=raw_codes[group[n]].values())\n",
    "else:\n",
    "    sns.distplot(df[group[n]], bins=20, kde=False, rug=False)"
   ]
  },
  {
   "cell_type": "code",
   "execution_count": null,
   "metadata": {},
   "outputs": [],
   "source": [
    "n = 14\n",
    "group = ok_raw\n",
    "if group[n] in raw_codes.keys() and raw_codes[group[n]] != {}:\n",
    "    counts = df[group[n]].copy()\n",
    "    counts.replace(raw_codes[group[n]], inplace=True)\n",
    "    sns.countplot(y=counts, order=raw_codes[group[n]].values())\n",
    "else:\n",
    "    sns.distplot(df[group[n]], bins=10, kde=False, rug=False)"
   ]
  },
  {
   "cell_type": "code",
   "execution_count": null,
   "metadata": {},
   "outputs": [],
   "source": [
    "n = 15\n",
    "group = ok_raw\n",
    "if group[n] in raw_codes.keys() and raw_codes[group[n]] != {}:\n",
    "    counts = df[group[n]].copy()\n",
    "    counts.replace(raw_codes[group[n]], inplace=True)\n",
    "    sns.countplot(counts, order=raw_codes[group[n]].values())\n",
    "else:\n",
    "    sns.distplot(df[group[n]], bins=10, kde=False, rug=False)"
   ]
  },
  {
   "cell_type": "code",
   "execution_count": null,
   "metadata": {},
   "outputs": [],
   "source": [
    "n = 16\n",
    "group = ok_raw\n",
    "if group[n] in raw_codes.keys() and raw_codes[group[n]] != {}:\n",
    "    counts = df[group[n]].copy()\n",
    "    counts.replace(raw_codes[group[n]], inplace=True)\n",
    "    sns.countplot(y=counts, order=raw_codes[group[n]].values())\n",
    "else:\n",
    "    sns.distplot(df[group[n]], bins=10, kde=False, rug=False)"
   ]
  },
  {
   "cell_type": "code",
   "execution_count": null,
   "metadata": {},
   "outputs": [],
   "source": [
    "n = 17\n",
    "group = ok_raw\n",
    "if group[n] in raw_codes.keys() and raw_codes[group[n]] != {}:\n",
    "    counts = df[group[n]].copy()\n",
    "    counts.replace(raw_codes[group[n]], inplace=True)\n",
    "    sns.countplot(y=counts, order=raw_codes[group[n]].values())\n",
    "else:\n",
    "    sns.distplot(df[group[n]], bins=10, kde=False, rug=False)"
   ]
  },
  {
   "cell_type": "code",
   "execution_count": null,
   "metadata": {},
   "outputs": [],
   "source": [
    "n = 18\n",
    "group = ok_raw\n",
    "if group[n] in raw_codes.keys() and raw_codes[group[n]] != {}:\n",
    "    counts = df[group[n]].copy()\n",
    "    counts.replace(raw_codes[group[n]], inplace=True)\n",
    "    sns.countplot(counts, order=raw_codes[group[n]].values())\n",
    "else:\n",
    "    sns.distplot(df[group[n]], bins=10, kde=False, rug=False)"
   ]
  },
  {
   "cell_type": "code",
   "execution_count": null,
   "metadata": {},
   "outputs": [],
   "source": [
    "n = 19\n",
    "group = ok_raw\n",
    "if group[n] in raw_codes.keys() and raw_codes[group[n]] != {}:\n",
    "    counts = df[group[n]].copy()\n",
    "    counts.replace(raw_codes[group[n]], inplace=True)\n",
    "    sns.countplot(counts, order=raw_codes[group[n]].values())\n",
    "else:\n",
    "    sns.distplot(df[group[n]], bins=10, kde=False, rug=False)"
   ]
  },
  {
   "cell_type": "code",
   "execution_count": null,
   "metadata": {},
   "outputs": [],
   "source": [
    "n = 20\n",
    "group = ok_raw\n",
    "if group[n] in raw_codes.keys() and raw_codes[group[n]] != {}:\n",
    "    counts = df[group[n]].copy()\n",
    "    counts.replace(raw_codes[group[n]], inplace=True)\n",
    "    sns.countplot(counts, order=raw_codes[group[n]].values())\n",
    "else:\n",
    "    sns.distplot(df[group[n]], bins=10, kde=False, rug=False)"
   ]
  },
  {
   "cell_type": "code",
   "execution_count": null,
   "metadata": {},
   "outputs": [],
   "source": [
    "n = 21\n",
    "group = ok_raw\n",
    "if group[n] in raw_codes.keys() and raw_codes[group[n]] != {}:\n",
    "    counts = df[group[n]].copy()\n",
    "    counts.replace(raw_codes[group[n]], inplace=True)\n",
    "    sns.countplot(counts, order=raw_codes[group[n]].values())\n",
    "else:\n",
    "    sns.distplot(df[group[n]], bins=12, kde=False, rug=False)"
   ]
  },
  {
   "cell_type": "code",
   "execution_count": null,
   "metadata": {},
   "outputs": [],
   "source": [
    "n = 0\n",
    "group = id_vars\n",
    "sns.distplot(df[group[n]], bins=12, kde=False, rug=False)"
   ]
  },
  {
   "cell_type": "code",
   "execution_count": null,
   "metadata": {},
   "outputs": [],
   "source": [
    "n = 1\n",
    "group = id_vars\n",
    "sns.distplot(df[group[n]], bins=12, kde=False, rug=False)"
   ]
  },
  {
   "cell_type": "code",
   "execution_count": null,
   "metadata": {},
   "outputs": [],
   "source": [
    "n = 2\n",
    "group = id_vars\n",
    "sns.distplot(df[group[n]], bins=12, kde=False, rug=False)"
   ]
  },
  {
   "cell_type": "code",
   "execution_count": null,
   "metadata": {},
   "outputs": [],
   "source": [
    "n = 3\n",
    "group = id_vars\n",
    "sns.distplot(df[group[n]], bins=12, kde=False, rug=False)"
   ]
  },
  {
   "cell_type": "code",
   "execution_count": null,
   "metadata": {},
   "outputs": [],
   "source": [
    "n = 4\n",
    "group = id_vars\n",
    "sns.distplot(df[group[n]], bins=12, kde=False, rug=False)"
   ]
  },
  {
   "cell_type": "code",
   "execution_count": null,
   "metadata": {},
   "outputs": [],
   "source": [
    "n = 5\n",
    "group = id_vars\n",
    "sns.distplot(df[group[n]], bins=12, kde=False, rug=False)"
   ]
  },
  {
   "cell_type": "code",
   "execution_count": null,
   "metadata": {},
   "outputs": [],
   "source": [
    "n = 6\n",
    "group = id_vars\n",
    "sns.distplot(df[group[n]], bins=12, kde=False, rug=False)"
   ]
  },
  {
   "cell_type": "code",
   "execution_count": null,
   "metadata": {},
   "outputs": [],
   "source": [
    "n = 7\n",
    "group = id_vars\n",
    "sns.distplot(df[group[n]], bins=12, kde=False, rug=False)"
   ]
  },
  {
   "cell_type": "code",
   "execution_count": null,
   "metadata": {},
   "outputs": [],
   "source": [
    "n = 0\n",
    "group = acs_vars\n",
    "sns.distplot(df[group[n]], bins=10, kde=False, rug=False)"
   ]
  },
  {
   "cell_type": "code",
   "execution_count": null,
   "metadata": {},
   "outputs": [],
   "source": [
    "n = 1\n",
    "group = acs_vars\n",
    "sns.distplot(df[group[n]], bins=12, kde=False, rug=False)"
   ]
  },
  {
   "cell_type": "code",
   "execution_count": null,
   "metadata": {},
   "outputs": [],
   "source": [
    "n = 2\n",
    "group = acs_vars\n",
    "sns.distplot(df[group[n]], bins=12, kde=False, rug=False)"
   ]
  },
  {
   "cell_type": "code",
   "execution_count": null,
   "metadata": {},
   "outputs": [],
   "source": [
    "n = 3\n",
    "group = acs_vars\n",
    "sns.distplot(df[group[n]], bins=12, kde=False, rug=False)"
   ]
  },
  {
   "cell_type": "code",
   "execution_count": null,
   "metadata": {},
   "outputs": [],
   "source": [
    "n = 4\n",
    "group = acs_vars\n",
    "sns.distplot(df[group[n]], bins=12, kde=False, rug=False)"
   ]
  },
  {
   "cell_type": "code",
   "execution_count": null,
   "metadata": {},
   "outputs": [],
   "source": [
    "n = 5\n",
    "group = acs_vars\n",
    "sns.distplot(df[group[n]], bins=12, kde=False, rug=False)"
   ]
  },
  {
   "cell_type": "code",
   "execution_count": null,
   "metadata": {},
   "outputs": [],
   "source": [
    "n = 6\n",
    "group = acs_vars\n",
    "sns.distplot(df[group[n]], bins=12, kde=False, rug=False)"
   ]
  },
  {
   "cell_type": "code",
   "execution_count": null,
   "metadata": {},
   "outputs": [],
   "source": [
    "n = 7\n",
    "group = acs_vars\n",
    "sns.distplot(df[group[n]], bins=12, kde=False, rug=False)"
   ]
  },
  {
   "cell_type": "code",
   "execution_count": null,
   "metadata": {},
   "outputs": [],
   "source": [
    "n = 8\n",
    "group = acs_vars\n",
    "sns.distplot(df[group[n]], bins=12, kde=False, rug=False)"
   ]
  },
  {
   "cell_type": "code",
   "execution_count": null,
   "metadata": {},
   "outputs": [],
   "source": [
    "n = 9\n",
    "group = acs_vars\n",
    "sns.distplot(df[group[n]], bins=12, kde=False, rug=False)"
   ]
  },
  {
   "cell_type": "code",
   "execution_count": null,
   "metadata": {},
   "outputs": [],
   "source": [
    "n = 10\n",
    "group = acs_vars\n",
    "sns.distplot(df[group[n]], bins=12, kde=False, rug=False)"
   ]
  },
  {
   "cell_type": "code",
   "execution_count": 289,
   "metadata": {},
   "outputs": [],
   "source": [
    "nyc_codes = {\n",
    "    'CitizenStatus': {1: 'Birth', 2: 'Naturalized', 3: 'No'},\n",
    "    'EducAttain': {0: 'NA', 1:'<HS', 2:'HS', 3:'SomeCollege', 4:'Bachelors+'},\n",
    "    'FTPTWork': {1:'FTYR', 2:'<FTYR', 3:'None'},\n",
    "    'FamType_PU': {1:'Family', 2:'Couple', 3:'M+kid', 4:'W+kid', 5:'Mnokid', 6:'Wnokid', 7:'Unrelated', 8:'UnrelAlone'},\n",
    "    'NYCgov_REL': {0:'Self', 1:'Spouse', 2:'Child', 3:'Sibling', 4:'Parent', 5:'Grandkid', 6:'Inlaw', 7:'OtherRel', 8:'Boarder', 9:'Roommate', 10:'Partner', 11:'FosterKid', 12:'OtherNonRel'},\n",
    "    'NYCgov_SFR': {0: 'NA', 1:'NoKids', 2:'Kids', 3:'OneParent', 4:'Kid', 5:'Kid-Monly', 6:'Kid-Wonly'},\n",
    "    'Povunit_Rel': {1:'Head', 2:'Spouse/Ptnr', 3:'Child', 4:'Other'},\n",
    "    'SNAPUnit_Rel': {1:'Head', 2:'Spouse/Ptnr', 3:'Child', 4:'Other'},\n",
    "    'TaxUnit_FILER': {1:'Filer', 0:'Non-Filer'},\n",
    "    'TaxUnit_FILESTAT': {1:'Joint', 2:'HH', 3:'MFS', 4:'Single'},\n",
    "    'TaxUnit_FILETYPE': {1: 'Normal', 2:'Dependent', 3:'BelowThresh'},\n",
    "    'TaxUnit_Rel': {1:'Head', 2:'Spouse/Ptnr', 3:'Child', 4:'Other', 5:'EIC', 6:'Relative'},\n",
    "    'TotalWorkHrs_PU': {1:'3500+', 2:'2340-3500', 3:'1750-2340', 4:'<1750', 5:'None'}\n",
    "    }"
   ]
  },
  {
   "cell_type": "code",
   "execution_count": null,
   "metadata": {},
   "outputs": [],
   "source": [
    "n = 0\n",
    "labels = nyc_vars\n",
    "dict = nyc_codes\n",
    "if labels[n] in dict.keys() and dict[labels[n]] != {}:\n",
    "    counts = df[labels[n]].copy()\n",
    "    counts.replace(dict[labels[n]], inplace=True)\n",
    "    sns.countplot(counts, order=dict[labels[n]].values())\n",
    "else:\n",
    "    sns.distplot(df[labels[n]], bins=20, kde=False, rug=False)"
   ]
  },
  {
   "cell_type": "code",
   "execution_count": null,
   "metadata": {},
   "outputs": [],
   "source": [
    "n = 1\n",
    "labels = nyc_vars\n",
    "dict = nyc_codes\n",
    "if labels[n] in dict.keys() and dict[labels[n]] != {}:\n",
    "    counts = df[labels[n]].copy()\n",
    "    counts.replace(dict[labels[n]], inplace=True)\n",
    "    sns.countplot(counts, order=dict[labels[n]].values())\n",
    "else:\n",
    "    sns.distplot(df[labels[n]], bins=20, kde=False, rug=False)"
   ]
  },
  {
   "cell_type": "code",
   "execution_count": null,
   "metadata": {},
   "outputs": [],
   "source": [
    "n = 2\n",
    "labels = nyc_vars\n",
    "dict = nyc_codes\n",
    "if labels[n] in dict.keys() and dict[labels[n]] != {}:\n",
    "    counts = df[labels[n]].copy()\n",
    "    counts.replace(dict[labels[n]], inplace=True)\n",
    "    sns.countplot(counts, order=dict[labels[n]].values())\n",
    "else:\n",
    "    sns.distplot(df[labels[n]], bins=20, kde=False, rug=False)"
   ]
  },
  {
   "cell_type": "code",
   "execution_count": null,
   "metadata": {},
   "outputs": [],
   "source": [
    "n = 3\n",
    "labels = nyc_vars\n",
    "dict = nyc_codes\n",
    "if labels[n] in dict.keys() and dict[labels[n]] != {}:\n",
    "    counts = df[labels[n]].copy()\n",
    "    counts.replace(dict[labels[n]], inplace=True)\n",
    "    sns.countplot(counts, order=dict[labels[n]].values())\n",
    "else:\n",
    "    sns.distplot(df[labels[n]], bins=20, kde=False, rug=False)"
   ]
  },
  {
   "cell_type": "code",
   "execution_count": null,
   "metadata": {},
   "outputs": [],
   "source": [
    "n = 4\n",
    "labels = nyc_vars\n",
    "dict = nyc_codes\n",
    "if labels[n] in dict.keys() and dict[labels[n]] != {}:\n",
    "    counts = df[labels[n]].copy()\n",
    "    counts.replace(dict[labels[n]], inplace=True)\n",
    "    sns.countplot(counts, order=dict[labels[n]].values())\n",
    "else:\n",
    "    sns.distplot(df[labels[n]], bins=20, kde=False, rug=False)"
   ]
  },
  {
   "cell_type": "code",
   "execution_count": null,
   "metadata": {},
   "outputs": [],
   "source": [
    "n = 5\n",
    "labels = nyc_vars\n",
    "dict = nyc_codes\n",
    "if labels[n] in dict.keys() and dict[labels[n]] != {}:\n",
    "    counts = df[labels[n]].copy()\n",
    "    counts.replace(dict[labels[n]], inplace=True)\n",
    "    sns.countplot(counts, order=dict[labels[n]].values())\n",
    "else:\n",
    "    sns.distplot(df[labels[n]], bins=20, kde=False, rug=False)"
   ]
  },
  {
   "cell_type": "code",
   "execution_count": null,
   "metadata": {},
   "outputs": [],
   "source": [
    "n = 6\n",
    "labels = nyc_vars\n",
    "dict = nyc_codes\n",
    "if labels[n] in dict.keys() and dict[labels[n]] != {}:\n",
    "    counts = df[labels[n]].copy()\n",
    "    counts.replace(dict[labels[n]], inplace=True)\n",
    "    sns.countplot(counts, order=dict[labels[n]].values())\n",
    "else:\n",
    "    sns.distplot(df[labels[n]], bins=20, kde=False, rug=False)"
   ]
  },
  {
   "cell_type": "code",
   "execution_count": null,
   "metadata": {},
   "outputs": [],
   "source": [
    "n = 7\n",
    "labels = nyc_vars\n",
    "dict = nyc_codes\n",
    "if labels[n] in dict.keys() and dict[labels[n]] != {}:\n",
    "    counts = df[labels[n]].copy()\n",
    "    counts.replace(dict[labels[n]], inplace=True)\n",
    "    sns.countplot(counts, order=dict[labels[n]].values())\n",
    "else:\n",
    "    sns.distplot(df[labels[n]], bins=20, kde=False, rug=False)"
   ]
  },
  {
   "cell_type": "code",
   "execution_count": null,
   "metadata": {},
   "outputs": [],
   "source": [
    "n = 8\n",
    "labels = nyc_vars\n",
    "dict = nyc_codes\n",
    "if labels[n] in dict.keys() and dict[labels[n]] != {}:\n",
    "    counts = df[labels[n]].copy()\n",
    "    counts.replace(dict[labels[n]], inplace=True)\n",
    "    sns.countplot(counts, order=dict[labels[n]].values())\n",
    "else:\n",
    "    sns.distplot(df[labels[n]], bins=20, kde=False, rug=False)"
   ]
  },
  {
   "cell_type": "code",
   "execution_count": null,
   "metadata": {},
   "outputs": [],
   "source": [
    "n = 9\n",
    "labels = nyc_vars\n",
    "dict = nyc_codes\n",
    "if labels[n] in dict.keys() and dict[labels[n]] != {}:\n",
    "    counts = df[labels[n]].copy()\n",
    "    counts.replace(dict[labels[n]], inplace=True)\n",
    "    sns.countplot(counts, order=dict[labels[n]].values())\n",
    "else:\n",
    "    sns.distplot(df[labels[n]], bins=20, kde=False, rug=False)"
   ]
  },
  {
   "cell_type": "code",
   "execution_count": null,
   "metadata": {},
   "outputs": [],
   "source": [
    "n = 10\n",
    "labels = nyc_vars\n",
    "dict = nyc_codes\n",
    "if labels[n] in dict.keys() and dict[labels[n]] != {}:\n",
    "    counts = df[labels[n]].copy()\n",
    "    counts.replace(dict[labels[n]], inplace=True)\n",
    "    sns.countplot(counts, order=dict[labels[n]].values())\n",
    "else:\n",
    "    sns.distplot(df[labels[n]], bins=20, kde=False, rug=False)"
   ]
  },
  {
   "cell_type": "code",
   "execution_count": null,
   "metadata": {},
   "outputs": [],
   "source": [
    "n = 11\n",
    "labels = nyc_vars\n",
    "dict = nyc_codes\n",
    "if labels[n] in dict.keys() and dict[labels[n]] != {}:\n",
    "    counts = df[labels[n]].copy()\n",
    "    counts.replace(dict[labels[n]], inplace=True)\n",
    "    sns.countplot(counts, order=dict[labels[n]].values())\n",
    "else:\n",
    "    sns.distplot(df[labels[n]], bins=20, kde=False, rug=False)"
   ]
  },
  {
   "cell_type": "code",
   "execution_count": null,
   "metadata": {},
   "outputs": [],
   "source": [
    "n = 12\n",
    "labels = nyc_vars\n",
    "dict = nyc_codes\n",
    "if labels[n] in dict.keys() and dict[labels[n]] != {}:\n",
    "    counts = df[labels[n]].copy()\n",
    "    counts.replace(dict[labels[n]], inplace=True)\n",
    "    sns.countplot(counts, order=dict[labels[n]].values())\n",
    "else:\n",
    "    sns.distplot(df[labels[n]], bins=20, kde=False, rug=False)"
   ]
  },
  {
   "cell_type": "code",
   "execution_count": null,
   "metadata": {},
   "outputs": [],
   "source": [
    "n = 13\n",
    "labels = nyc_vars\n",
    "dict = nyc_codes\n",
    "if labels[n] in dict.keys() and dict[labels[n]] != {}:\n",
    "    counts = df[labels[n]].copy()\n",
    "    counts.replace(dict[labels[n]], inplace=True)\n",
    "    sns.countplot(counts, order=dict[labels[n]].values())\n",
    "else:\n",
    "    sns.distplot(df[labels[n]], bins=20, kde=False, rug=False)"
   ]
  },
  {
   "cell_type": "code",
   "execution_count": null,
   "metadata": {},
   "outputs": [],
   "source": [
    "n = 14\n",
    "labels = nyc_vars\n",
    "dict = nyc_codes\n",
    "if labels[n] in dict.keys() and dict[labels[n]] != {}:\n",
    "    counts = df[labels[n]].copy()\n",
    "    counts.replace(dict[labels[n]], inplace=True)\n",
    "    sns.countplot(counts, order=dict[labels[n]].values())\n",
    "else:\n",
    "    sns.distplot(df[labels[n]], bins=20, kde=False, rug=False)"
   ]
  },
  {
   "cell_type": "code",
   "execution_count": null,
   "metadata": {},
   "outputs": [],
   "source": [
    "n = 15\n",
    "labels = nyc_vars\n",
    "dict = nyc_codes\n",
    "if labels[n] in dict.keys() and dict[labels[n]] != {}:\n",
    "    counts = df[labels[n]].copy()\n",
    "    counts.replace(dict[labels[n]], inplace=True)\n",
    "    sns.countplot(counts, order=dict[labels[n]].values())\n",
    "else:\n",
    "    sns.distplot(df[labels[n]], bins=20, kde=False, rug=False)"
   ]
  },
  {
   "cell_type": "code",
   "execution_count": 278,
   "metadata": {},
   "outputs": [
    {
     "data": {
      "image/png": "[encoded data removed]",
      "text/plain": [
       "<Figure size 432x288 with 1 Axes>"
      ]
     },
     "metadata": {},
     "output_type": "display_data"
    }
   ],
   "source": [
    "n = 16\n",
    "labels = nyc_vars\n",
    "dict = nyc_codes\n",
    "if labels[n] in dict.keys() and dict[labels[n]] != {}:\n",
    "    counts = df[labels[n]].copy()\n",
    "    counts.replace(dict[labels[n]], inplace=True)\n",
    "    sns.countplot(y=counts, order=dict[labels[n]].values())\n",
    "else:\n",
    "    sns.distplot(df[labels[n]], bins=20, kde=False, rug=False)"
   ]
  },
  {
   "cell_type": "code",
   "execution_count": 277,
   "metadata": {},
   "outputs": [
    {
     "data": {
      "image/png": "[encoded data removed]",
      "text/plain": [
       "<Figure size 432x288 with 1 Axes>"
      ]
     },
     "metadata": {},
     "output_type": "display_data"
    }
   ],
   "source": [
    "n = 17\n",
    "labels = nyc_vars\n",
    "dict = nyc_codes\n",
    "if labels[n] in dict.keys() and dict[labels[n]] != {}:\n",
    "    counts = df[labels[n]].copy()\n",
    "    counts.replace(dict[labels[n]], inplace=True)\n",
    "    sns.countplot(counts, order=dict[labels[n]].values())\n",
    "else:\n",
    "    sns.distplot(df[labels[n]], bins=20, kde=False, rug=False)"
   ]
  },
  {
   "cell_type": "code",
   "execution_count": 276,
   "metadata": {},
   "outputs": [
    {
     "data": {
      "image/png": "[encoded data removed]",
      "text/plain": [
       "<Figure size 432x288 with 1 Axes>"
      ]
     },
     "metadata": {},
     "output_type": "display_data"
    }
   ],
   "source": [
    "n = 18\n",
    "labels = nyc_vars\n",
    "dict = nyc_codes\n",
    "if labels[n] in dict.keys() and dict[labels[n]] != {}:\n",
    "    counts = df[labels[n]].copy()\n",
    "    counts.replace(dict[labels[n]], inplace=True)\n",
    "    sns.countplot(counts, order=dict[labels[n]].values())\n",
    "else:\n",
    "    sns.distplot(df[labels[n]], bins=20, kde=False, rug=False)"
   ]
  },
  {
   "cell_type": "code",
   "execution_count": 275,
   "metadata": {},
   "outputs": [
    {
     "data": {
      "image/png": "[encoded data removed]",
      "text/plain": [
       "<Figure size 432x288 with 1 Axes>"
      ]
     },
     "metadata": {},
     "output_type": "display_data"
    }
   ],
   "source": [
    "n = 19\n",
    "labels = nyc_vars\n",
    "dict = nyc_codes\n",
    "if labels[n] in dict.keys() and dict[labels[n]] != {}:\n",
    "    counts = df[labels[n]].copy()\n",
    "    counts.replace(dict[labels[n]], inplace=True)\n",
    "    sns.countplot(counts, order=dict[labels[n]].values())\n",
    "else:\n",
    "    sns.distplot(df[labels[n]], bins=20, kde=False, rug=False)"
   ]
  },
  {
   "cell_type": "code",
   "execution_count": 274,
   "metadata": {},
   "outputs": [
    {
     "data": {
      "image/png": "[encoded data removed]",
      "text/plain": [
       "<Figure size 432x288 with 1 Axes>"
      ]
     },
     "metadata": {},
     "output_type": "display_data"
    }
   ],
   "source": [
    "n = 20\n",
    "labels = nyc_vars\n",
    "dict = nyc_codes\n",
    "if labels[n] in dict.keys() and dict[labels[n]] != {}:\n",
    "    counts = df[labels[n]].copy()\n",
    "    counts.replace(dict[labels[n]], inplace=True)\n",
    "    sns.countplot(counts, order=dict[labels[n]].values())\n",
    "else:\n",
    "    sns.distplot(df[labels[n]], bins=20, kde=False, rug=False)"
   ]
  },
  {
   "cell_type": "code",
   "execution_count": 268,
   "metadata": {},
   "outputs": [
    {
     "data": {
      "image/png": "[encoded data removed]",
      "text/plain": [
       "<Figure size 432x288 with 1 Axes>"
      ]
     },
     "metadata": {},
     "output_type": "display_data"
    }
   ],
   "source": [
    "n = 21\n",
    "labels = nyc_vars\n",
    "dict = nyc_codes\n",
    "if labels[n] in dict.keys() and dict[labels[n]] != {}:\n",
    "    counts = df[labels[n]].copy()\n",
    "    counts.replace(dict[labels[n]], inplace=True)\n",
    "    sns.countplot(counts, order=dict[labels[n]].values())\n",
    "else:\n",
    "    sns.distplot(df[labels[n]], bins=20, kde=False, rug=False)"
   ]
  },
  {
   "cell_type": "code",
   "execution_count": 269,
   "metadata": {},
   "outputs": [
    {
     "data": {
      "image/png": "[encoded data removed]",
      "text/plain": [
       "<Figure size 432x288 with 1 Axes>"
      ]
     },
     "metadata": {},
     "output_type": "display_data"
    }
   ],
   "source": [
    "n = 22\n",
    "labels = nyc_vars\n",
    "dict = nyc_codes\n",
    "if labels[n] in dict.keys() and dict[labels[n]] != {}:\n",
    "    counts = df[labels[n]].copy()\n",
    "    counts.replace(dict[labels[n]], inplace=True)\n",
    "    sns.countplot(counts, order=dict[labels[n]].values())\n",
    "else:\n",
    "    sns.distplot(df[labels[n]], bins=20, kde=False, rug=False)"
   ]
  },
  {
   "cell_type": "code",
   "execution_count": 270,
   "metadata": {},
   "outputs": [
    {
     "data": {
      "image/png": "[encoded data removed]",
      "text/plain": [
       "<Figure size 432x288 with 1 Axes>"
      ]
     },
     "metadata": {},
     "output_type": "display_data"
    }
   ],
   "source": [
    "n = 23\n",
    "labels = nyc_vars\n",
    "dict = nyc_codes\n",
    "if labels[n] in dict.keys() and dict[labels[n]] != {}:\n",
    "    counts = df[labels[n]].copy()\n",
    "    counts.replace(dict[labels[n]], inplace=True)\n",
    "    sns.countplot(counts, order=dict[labels[n]].values())\n",
    "else:\n",
    "    sns.distplot(df[labels[n]], bins=20, kde=False, rug=False)"
   ]
  },
  {
   "cell_type": "code",
   "execution_count": 273,
   "metadata": {},
   "outputs": [
    {
     "data": {
      "image/png": "[encoded data removed]",
      "text/plain": [
       "<Figure size 432x288 with 1 Axes>"
      ]
     },
     "metadata": {},
     "output_type": "display_data"
    }
   ],
   "source": [
    "n = 24\n",
    "labels = nyc_vars\n",
    "dict = nyc_codes\n",
    "if labels[n] in dict.keys() and dict[labels[n]] != {}:\n",
    "    counts = df[labels[n]].copy()\n",
    "    counts.replace(dict[labels[n]], inplace=True)\n",
    "    sns.countplot(counts, order=dict[labels[n]].values())\n",
    "else:\n",
    "    sns.distplot(df[labels[n]], bins=20, kde=False, rug=False)"
   ]
  },
  {
   "cell_type": "code",
   "execution_count": 279,
   "metadata": {},
   "outputs": [
    {
     "data": {
      "image/png": "[encoded data removed]",
      "text/plain": [
       "<Figure size 432x288 with 1 Axes>"
      ]
     },
     "metadata": {},
     "output_type": "display_data"
    }
   ],
   "source": [
    "n = 25\n",
    "labels = nyc_vars\n",
    "dict = nyc_codes\n",
    "if labels[n] in dict.keys() and dict[labels[n]] != {}:\n",
    "    counts = df[labels[n]].copy()\n",
    "    counts.replace(dict[labels[n]], inplace=True)\n",
    "    sns.countplot(counts, order=dict[labels[n]].values())\n",
    "else:\n",
    "    sns.distplot(df[labels[n]], bins=20, kde=False, rug=False)"
   ]
  },
  {
   "cell_type": "code",
   "execution_count": 284,
   "metadata": {},
   "outputs": [
    {
     "data": {
      "image/png": "[encoded data removed]",
      "text/plain": [
       "<Figure size 432x288 with 1 Axes>"
      ]
     },
     "metadata": {},
     "output_type": "display_data"
    }
   ],
   "source": [
    "n = 26\n",
    "labels = nyc_vars\n",
    "dict = nyc_codes\n",
    "if labels[n] in dict.keys() and dict[labels[n]] != {}:\n",
    "    counts = df[labels[n]].copy()\n",
    "    counts.replace(dict[labels[n]], inplace=True)\n",
    "    sns.countplot(counts, order=dict[labels[n]].values())\n",
    "else:\n",
    "    sns.distplot(df[labels[n]], bins=20, kde=False, rug=False)"
   ]
  },
  {
   "cell_type": "code",
   "execution_count": 285,
   "metadata": {},
   "outputs": [
    {
     "data": {
      "image/png": "[encoded data removed]",
      "text/plain": [
       "<Figure size 432x288 with 1 Axes>"
      ]
     },
     "metadata": {},
     "output_type": "display_data"
    }
   ],
   "source": [
    "n = 27\n",
    "labels = nyc_vars\n",
    "dict = nyc_codes\n",
    "if labels[n] in dict.keys() and dict[labels[n]] != {}:\n",
    "    counts = df[labels[n]].copy()\n",
    "    counts.replace(dict[labels[n]], inplace=True)\n",
    "    sns.countplot(counts, order=dict[labels[n]].values())\n",
    "else:\n",
    "    sns.distplot(df[labels[n]], bins=20, kde=False, rug=False)"
   ]
  },
  {
   "cell_type": "code",
   "execution_count": 286,
   "metadata": {},
   "outputs": [
    {
     "data": {
      "image/png": "[encoded data removed]",
      "text/plain": [
       "<Figure size 432x288 with 1 Axes>"
      ]
     },
     "metadata": {},
     "output_type": "display_data"
    }
   ],
   "source": [
    "n = 28\n",
    "labels = nyc_vars\n",
    "dict = nyc_codes\n",
    "if labels[n] in dict.keys() and dict[labels[n]] != {}:\n",
    "    counts = df[labels[n]].copy()\n",
    "    counts.replace(dict[labels[n]], inplace=True)\n",
    "    sns.countplot(counts, order=dict[labels[n]].values())\n",
    "else:\n",
    "    sns.distplot(df[labels[n]], bins=20, kde=False, rug=False)"
   ]
  },
  {
   "cell_type": "code",
   "execution_count": 287,
   "metadata": {},
   "outputs": [
    {
     "data": {
      "image/png": "[encoded data removed]",
      "text/plain": [
       "<Figure size 432x288 with 1 Axes>"
      ]
     },
     "metadata": {},
     "output_type": "display_data"
    }
   ],
   "source": [
    "n = 29\n",
    "labels = nyc_vars\n",
    "dict = nyc_codes\n",
    "if labels[n] in dict.keys() and dict[labels[n]] != {}:\n",
    "    counts = df[labels[n]].copy()\n",
    "    counts.replace(dict[labels[n]], inplace=True)\n",
    "    sns.countplot(counts, order=dict[labels[n]].values())\n",
    "else:\n",
    "    sns.distplot(df[labels[n]], bins=20, kde=False, rug=False)"
   ]
  },
  {
   "cell_type": "code",
   "execution_count": 290,
   "metadata": {},
   "outputs": [
    {
     "data": {
      "image/png": "[encoded data removed]",
      "text/plain": [
       "<Figure size 432x288 with 1 Axes>"
      ]
     },
     "metadata": {},
     "output_type": "display_data"
    }
   ],
   "source": [
    "n = 30\n",
    "labels = nyc_vars\n",
    "dict = nyc_codes\n",
    "if labels[n] in dict.keys() and dict[labels[n]] != {}:\n",
    "    counts = df[labels[n]].copy()\n",
    "    counts.replace(dict[labels[n]], inplace=True)\n",
    "    sns.countplot(counts, order=dict[labels[n]].values())\n",
    "else:\n",
    "    sns.distplot(df[labels[n]], bins=20, kde=False, rug=False)"
   ]
  },
  {
   "cell_type": "code",
   "execution_count": 292,
   "metadata": {},
   "outputs": [
    {
     "data": {
      "text/plain": [
       "<matplotlib.axes._subplots.AxesSubplot at 0x7f7cc4fdc518>"
      ]
     },
     "execution_count": 292,
     "metadata": {},
     "output_type": "execute_result"
    },
    {
     "data": {
      "image/png": "[encoded data removed]",
      "text/plain": [
       "<Figure size 432x288 with 1 Axes>"
      ]
     },
     "metadata": {},
     "output_type": "display_data"
    }
   ],
   "source": [
    "n = 0\n",
    "labels = output_vars\n",
    "sns.distplot(df[labels[n]], bins=20, kde=False, rug=False)"
   ]
  },
  {
   "cell_type": "code",
   "execution_count": 5,
   "metadata": {},
   "outputs": [
    {
     "data": {
      "text/plain": [
       "<matplotlib.axes._subplots.AxesSubplot at 0x7f0ae003e6a0>"
      ]
     },
     "execution_count": 5,
     "metadata": {},
     "output_type": "execute_result"
    },
    {
     "data": {
      "image/png": "[encoded data removed]",
      "text/plain": [
       "<Figure size 432x288 with 1 Axes>"
      ]
     },
     "metadata": {},
     "output_type": "display_data"
    }
   ],
   "source": [
    "n = 1\n",
    "labels = output_vars\n",
    "counts = df[labels[n]].copy()\n",
    "counts.replace({1: 'Pov', 2:'Not Pov'}, inplace=True)\n",
    "sns.countplot(counts)"
   ]
  },
  {
   "cell_type": "code",
   "execution_count": 6,
   "metadata": {},
   "outputs": [
    {
     "data": {
      "text/plain": [
       "<matplotlib.axes._subplots.AxesSubplot at 0x7f0adff5d278>"
      ]
     },
     "execution_count": 6,
     "metadata": {},
     "output_type": "execute_result"
    },
    {
     "data": {
      "image/png": "[encoded data removed]",
      "text/plain": [
       "<Figure size 432x288 with 1 Axes>"
      ]
     },
     "metadata": {},
     "output_type": "display_data"
    }
   ],
   "source": [
    "n = 2\n",
    "labels = output_vars\n",
    "sns.distplot(df[labels[n]], bins=20, kde=False, rug=False)"
   ]
  },
  {
   "cell_type": "code",
   "execution_count": 19,
   "metadata": {},
   "outputs": [
    {
     "data": {
      "text/plain": [
       "<matplotlib.axes._subplots.AxesSubplot at 0x7f0adfbf59b0>"
      ]
     },
     "execution_count": 19,
     "metadata": {},
     "output_type": "execute_result"
    },
    {
     "data": {
      "image/png": "[encoded data removed]",
      "text/plain": [
       "<Figure size 432x288 with 1 Axes>"
      ]
     },
     "metadata": {},
     "output_type": "display_data"
    }
   ],
   "source": [
    "n = 2\n",
    "labels = output_vars\n",
    "counts = df.loc[df[labels[n]] > 0.0, labels[n]].copy()\n",
    "sns.distplot(counts, bins=20, kde=False, rug=False)"
   ]
  },
  {
   "cell_type": "code",
   "execution_count": 21,
   "metadata": {},
   "outputs": [
    {
     "data": {
      "text/plain": [
       "<matplotlib.axes._subplots.AxesSubplot at 0x7f0adfbb29b0>"
      ]
     },
     "execution_count": 21,
     "metadata": {},
     "output_type": "execute_result"
    },
    {
     "data": {
      "image/png": "[encoded data removed]",
      "text/plain": [
       "<Figure size 432x288 with 1 Axes>"
      ]
     },
     "metadata": {},
     "output_type": "display_data"
    }
   ],
   "source": [
    "n = 3\n",
    "labels = output_vars\n",
    "counts = df[labels[n]].copy()\n",
    "counts.replace({1: 'Pov', 2:'Not Pov'}, inplace=True)\n",
    "sns.countplot(counts)"
   ]
  },
  {
   "cell_type": "code",
   "execution_count": 26,
   "metadata": {},
   "outputs": [
    {
     "data": {
      "text/plain": [
       "0.1702157148852126"
      ]
     },
     "execution_count": 26,
     "metadata": {},
     "output_type": "execute_result"
    }
   ],
   "source": [
    "df['NYCgov_Pov_Stat'].value_counts() #19.13%\n",
    "149066/(630157+149066)\n",
    "df['Off_Pov_Stat'].value_counts() #17.02%\n",
    "132636/(132636+646587)"
   ]
  },
  {
   "cell_type": "code",
   "execution_count": null,
   "metadata": {},
   "outputs": [],
   "source": []
  },
  {
   "cell_type": "code",
   "execution_count": null,
   "metadata": {},
   "outputs": [],
   "source": []
  },
  {
   "cell_type": "code",
   "execution_count": null,
   "metadata": {},
   "outputs": [],
   "source": []
  },
  {
   "cell_type": "code",
   "execution_count": null,
   "metadata": {},
   "outputs": [],
   "source": [
    "def df_value_counts(df, column):\n",
    "    '''Do value_counts on a single dataframe column, but don't order by the column.'''\n",
    "    return pd.value_counts(df[column].values, sort=False)\n",
    "\n",
    "def show_bucket_chart(df, column, bucket_list):\n",
    "    '''Show a bucket chart for one column of a dataframe.\n",
    "    Input: a dataframe, the name of a pre-bucketed column from that dataframe, and a list of labels for the buckets.\n",
    "    Output: no return value.  Shows a bucket chart.'''\n",
    "\n",
    "    counts = df_value_counts(df,column)\n",
    "    print(counts)\n",
    "    counts = counts.sort_index().set_axis(bucket_list, inplace=False)\n",
    "    chart = counts.plot(kind='bar', title=column)\n",
    "    chart.set_ylabel('Raw Pop')"
   ]
  },
  {
   "cell_type": "code",
   "execution_count": null,
   "metadata": {},
   "outputs": [],
   "source": [
    "# Group the ages for visualization, and add a column to the dataframe to run them against.\n",
    "age_group_labels = ['0-9', '10-19', '20-29', '30-39', '40-49', '50-59', '60-69', '70-79', '80-89', '90-99']\n",
    "df['Age_bucket'] = df['AGEP'] // 10\n",
    "\n",
    "show_bucket_chart(df, 'Age_bucket', age_group_labels)"
   ]
  },
  {
   "cell_type": "code",
   "execution_count": null,
   "metadata": {},
   "outputs": [],
   "source": [
    "# Group the official poverty thresholds for visualization, and add a column to the dataframe to run them against.\n",
    "threshold_group_labels = age_group_labels[:6]\n",
    "df['Off_Threshold_bucket'] = df['Off_Threshold'] // 10000\n",
    "\n",
    "show_bucket_chart(df, 'Off_Threshold_bucket', threshold_group_labels)"
   ]
  },
  {
   "cell_type": "code",
   "execution_count": null,
   "metadata": {},
   "outputs": [],
   "source": [
    "# Group the pretax incomes for visualization, and add a column to the dataframe to run them against.\n",
    "pretax_group_labels = age_group_labels + ['100+']\n",
    "#pretax_group_labels = age_group_labels + ['100-119', '120-139', '140-159', '160-179', '180-199', '200+']\n",
    "# Function to bucket the pretax groups into tens of thousands of dollars, or over 100k\n",
    "def bucket_pretax(x):\n",
    "    if x < 0:\n",
    "        return 0\n",
    "    else:\n",
    "        return min(x//10000, 10)\n",
    "    \n",
    "df['PreTax_bucket'] = df['PreTaxIncome_PU'].apply(bucket_pretax)\n",
    "\n",
    "show_bucket_chart(df, 'PreTax_bucket', pretax_group_labels)"
   ]
  },
  {
   "cell_type": "code",
   "execution_count": null,
   "metadata": {},
   "outputs": [],
   "source": [
    "wkhp_group_labels = age_group_labels\n",
    "df['WKHP_bucket'] = df['WKHP'] // 10\n",
    "\n",
    "show_bucket_chart(df, 'WKHP_bucket', wkhp_group_labels)"
   ]
  },
  {
   "cell_type": "code",
   "execution_count": null,
   "metadata": {},
   "outputs": [],
   "source": [
    "n = 0\n",
    "counts = df_value_counts(df, ok_raw[n])\n",
    "counts = counts.sort_index().rename(codes[ok_raw[n]])\n",
    "print(df_value_counts(df, ok_raw[n]))\n",
    "plt = counts.plot(kind='bar', title=ok_raw[n])\n",
    "plt.set_ylabel('Raw Pop')"
   ]
  },
  {
   "cell_type": "code",
   "execution_count": null,
   "metadata": {},
   "outputs": [],
   "source": [
    "n = 1\n",
    "counts = df_value_counts(df, ok_raw[n])\n",
    "counts = counts.sort_index().rename(codes[ok_raw[n]])\n",
    "print(df_value_counts(df, ok_raw[n]))\n",
    "plt = counts.plot(kind='bar', title=ok_raw[n])\n",
    "plt.set_ylabel('Raw Pop')"
   ]
  },
  {
   "cell_type": "code",
   "execution_count": null,
   "metadata": {},
   "outputs": [],
   "source": [
    "n = 2\n",
    "counts = df_value_counts(df, ok_raw[n])\n",
    "counts = counts.sort_index().rename(codes[ok_raw[n]])\n",
    "print(df_value_counts(df, ok_raw[n]))\n",
    "plt = counts.plot(kind='bar', title=ok_raw[n])\n",
    "plt.set_ylabel('Raw Pop')"
   ]
  },
  {
   "cell_type": "code",
   "execution_count": null,
   "metadata": {},
   "outputs": [],
   "source": [
    "n = 3\n",
    "counts = df_value_counts(df, ok_raw[n])\n",
    "counts = counts.sort_index().rename(codes[ok_raw[n]])\n",
    "print(df_value_counts(df, ok_raw[n]))\n",
    "plt = counts.plot(kind='bar', title=ok_raw[n])\n",
    "plt.set_ylabel('Raw Pop')"
   ]
  },
  {
   "cell_type": "code",
   "execution_count": null,
   "metadata": {},
   "outputs": [],
   "source": [
    "n = 4\n",
    "counts = df_value_counts(df, ok_raw[n])\n",
    "counts = counts.sort_index().rename(codes[ok_raw[n]])\n",
    "print(df_value_counts(df, ok_raw[n]))\n",
    "plt = counts.plot(kind='bar', title=ok_raw[n])\n",
    "plt.set_ylabel('Raw Pop')"
   ]
  },
  {
   "cell_type": "code",
   "execution_count": null,
   "metadata": {},
   "outputs": [],
   "source": [
    "n = 5\n",
    "counts = df_value_counts(df, ok_raw[n])\n",
    "counts = counts.sort_index().rename(codes[ok_raw[n]])\n",
    "print(df_value_counts(df, ok_raw[n]))\n",
    "plt = counts.plot(kind='bar', title=ok_raw[n])\n",
    "plt.set_ylabel('Raw Pop')"
   ]
  },
  {
   "cell_type": "code",
   "execution_count": null,
   "metadata": {},
   "outputs": [],
   "source": [
    "n = 6\n",
    "counts = df_value_counts(df, ok_raw[n])\n",
    "counts = counts.sort_index().rename(codes[ok_raw[n]])\n",
    "print(df_value_counts(df, ok_raw[n]))\n",
    "plt = counts.plot(kind='bar', title=ok_raw[n])\n",
    "plt.set_ylabel('Raw Pop')"
   ]
  },
  {
   "cell_type": "code",
   "execution_count": null,
   "metadata": {},
   "outputs": [],
   "source": [
    "n = 7\n",
    "counts = df_value_counts(df, ok_raw[n])\n",
    "counts = counts.sort_index().rename(codes[ok_raw[n]])\n",
    "print(df_value_counts(df, ok_raw[n]))\n",
    "plt = counts.plot(kind='bar', title=ok_raw[n])\n",
    "plt.set_ylabel('Raw Pop')"
   ]
  },
  {
   "cell_type": "code",
   "execution_count": null,
   "metadata": {},
   "outputs": [],
   "source": [
    "n = 8\n",
    "counts = df_value_counts(df, ok_raw[n])\n",
    "counts = counts.sort_index().rename(codes[ok_raw[n]])\n",
    "print(df_value_counts(df, ok_raw[n]))\n",
    "plt = counts.plot(kind='bar', title=ok_raw[n])\n",
    "plt.set_ylabel('Raw Pop')"
   ]
  },
  {
   "cell_type": "code",
   "execution_count": null,
   "metadata": {},
   "outputs": [],
   "source": [
    "n = 9\n",
    "counts = df_value_counts(df, ok_raw[n])\n",
    "counts = counts.sort_index().rename(codes[ok_raw[n]])\n",
    "print(df_value_counts(df, ok_raw[n]))\n",
    "plt = counts.plot(kind='bar', title=ok_raw[n])\n",
    "plt.set_ylabel('Raw Pop')"
   ]
  },
  {
   "cell_type": "code",
   "execution_count": null,
   "metadata": {},
   "outputs": [],
   "source": [
    "n = 10\n",
    "counts = df_value_counts(df, ok_raw[n])\n",
    "counts = counts.sort_index().rename(codes[ok_raw[n]])\n",
    "print(df_value_counts(df, ok_raw[n]))\n",
    "plt = counts.plot(kind='bar', title=ok_raw[n])\n",
    "plt.set_ylabel('Raw Pop')"
   ]
  },
  {
   "cell_type": "code",
   "execution_count": null,
   "metadata": {},
   "outputs": [],
   "source": [
    "n = 11\n",
    "counts = df_value_counts(df, ok_raw[n])\n",
    "counts = counts.sort_index().rename(codes[ok_raw[n]])\n",
    "print(df_value_counts(df, ok_raw[n]))\n",
    "plt = counts.plot(kind='bar', title=ok_raw[n])\n",
    "plt.set_ylabel('Raw Pop')"
   ]
  },
  {
   "cell_type": "code",
   "execution_count": null,
   "metadata": {},
   "outputs": [],
   "source": [
    "n = 12\n",
    "counts = df_value_counts(df, ok_raw[n])\n",
    "counts = counts.sort_index().rename(codes[ok_raw[n]])\n",
    "print(df_value_counts(df, ok_raw[n]))\n",
    "plt = counts.plot(kind='bar', title=ok_raw[n])\n",
    "plt.set_ylabel('Raw Pop')"
   ]
  },
  {
   "cell_type": "code",
   "execution_count": null,
   "metadata": {},
   "outputs": [],
   "source": [
    "n = 13\n",
    "counts = df_value_counts(df, ok_raw[n])\n",
    "counts = counts.sort_index().rename(codes[ok_raw[n]])\n",
    "print(df_value_counts(df, ok_raw[n]))\n",
    "plt = counts.plot(kind='bar', title=ok_raw[n])\n",
    "plt.set_ylabel('Raw Pop')"
   ]
  },
  {
   "cell_type": "code",
   "execution_count": null,
   "metadata": {},
   "outputs": [],
   "source": [
    "n = 14\n",
    "counts = df_value_counts(df, ok_raw[n])\n",
    "counts = counts.sort_index().rename(codes[ok_raw[n]])\n",
    "print(df_value_counts(df, ok_raw[n]))\n",
    "plt = counts.plot(kind='bar', title=ok_raw[n])"
   ]
  },
  {
   "cell_type": "code",
   "execution_count": null,
   "metadata": {},
   "outputs": [],
   "source": [
    "n = 15\n",
    "counts = df_value_counts(df, ok_raw[n])\n",
    "counts = counts.sort_index().rename(codes[ok_raw[n]])\n",
    "print(df_value_counts(df, ok_raw[n]))\n",
    "plt = counts.plot(kind='bar', title=ok_raw[n])"
   ]
  },
  {
   "cell_type": "code",
   "execution_count": null,
   "metadata": {},
   "outputs": [],
   "source": [
    "n = 16\n",
    "counts = df_value_counts(df, ok_raw[n])\n",
    "counts = counts.sort_index().rename(codes[ok_raw[n]])\n",
    "print(df_value_counts(df, ok_raw[n]))\n",
    "plt = counts.plot(kind='bar', title=ok_raw[n])"
   ]
  },
  {
   "cell_type": "code",
   "execution_count": null,
   "metadata": {},
   "outputs": [],
   "source": [
    "n = 16\n",
    "counts = df_value_counts(df.loc[df.SCHG > 0], ok_raw[n])\n",
    "counts = counts.sort_index().rename(codes[ok_raw[n]])\n",
    "print(df_value_counts(df, ok_raw[n]))\n",
    "plt = counts.plot(kind='bar', title=ok_raw[n])"
   ]
  },
  {
   "cell_type": "code",
   "execution_count": null,
   "metadata": {},
   "outputs": [],
   "source": [
    "n = 17\n",
    "counts = df_value_counts(df, ok_raw[n])\n",
    "counts = counts.sort_index().rename(codes[ok_raw[n]])\n",
    "print(df_value_counts(df, ok_raw[n]))\n",
    "plt = counts.plot(kind='bar', title=ok_raw[n])"
   ]
  },
  {
   "cell_type": "code",
   "execution_count": null,
   "metadata": {},
   "outputs": [],
   "source": [
    "n = 18\n",
    "counts = df_value_counts(df, ok_raw[n])\n",
    "counts = counts.sort_index().rename(codes[ok_raw[n]])\n",
    "print(df_value_counts(df, ok_raw[n]))\n",
    "plt = counts.plot(kind='bar', title=ok_raw[n])"
   ]
  },
  {
   "cell_type": "code",
   "execution_count": null,
   "metadata": {},
   "outputs": [],
   "source": [
    "n = 19\n",
    "counts = df_value_counts(df, ok_raw[n])\n",
    "counts = counts.sort_index().rename(codes[ok_raw[n]])\n",
    "print(df_value_counts(df, ok_raw[n]))\n",
    "plt = counts.plot(kind='bar', title=ok_raw[n])"
   ]
  },
  {
   "cell_type": "code",
   "execution_count": null,
   "metadata": {},
   "outputs": [],
   "source": [
    "n = 20\n",
    "counts = df_value_counts(df, ok_raw[n])\n",
    "counts = counts.sort_index().rename(codes[ok_raw[n]])\n",
    "print(df_value_counts(df, ok_raw[n]))\n",
    "plt = counts.plot(kind='bar', title=ok_raw[n])"
   ]
  },
  {
   "cell_type": "code",
   "execution_count": null,
   "metadata": {},
   "outputs": [],
   "source": [
    "n = 21\n",
    "counts = df_value_counts(df, ok_raw[n])\n",
    "counts = counts.sort_index().rename(codes[ok_raw[n]])\n",
    "print(df_value_counts(df, ok_raw[n]))\n",
    "plt = counts.plot(kind='bar', title=ok_raw[n])\n",
    "plt.set_ylabel('Raw Pop')"
   ]
  },
  {
   "cell_type": "code",
   "execution_count": null,
   "metadata": {},
   "outputs": [],
   "source": [
    "n = 0\n",
    "group = id_vars\n",
    "sns.distplot(df[group[n]], bins=10, kde=False, rug=False)"
   ]
  },
  {
   "cell_type": "code",
   "execution_count": null,
   "metadata": {},
   "outputs": [],
   "source": [
    "n = 1\n",
    "group = id_vars\n",
    "sns.distplot(df[group[n]], bins=10, kde=False, rug=False)"
   ]
  },
  {
   "cell_type": "code",
   "execution_count": null,
   "metadata": {},
   "outputs": [],
   "source": [
    "n = 2\n",
    "group = id_vars\n",
    "sns.distplot(df[group[n]], bins=10, kde=False, rug=False)"
   ]
  },
  {
   "cell_type": "code",
   "execution_count": null,
   "metadata": {},
   "outputs": [],
   "source": [
    "n = 3\n",
    "group = id_vars\n",
    "sns.distplot(df[group[n]], bins=10, kde=False, rug=False)"
   ]
  },
  {
   "cell_type": "code",
   "execution_count": null,
   "metadata": {},
   "outputs": [],
   "source": [
    "n = 4\n",
    "group = id_vars\n",
    "sns.distplot(df[group[n]], bins=10, kde=False, rug=False)"
   ]
  },
  {
   "cell_type": "code",
   "execution_count": null,
   "metadata": {},
   "outputs": [],
   "source": [
    "n = 5\n",
    "group = id_vars\n",
    "sns.distplot(df[group[n]], bins=10, kde=False, rug=False)"
   ]
  },
  {
   "cell_type": "code",
   "execution_count": null,
   "metadata": {},
   "outputs": [],
   "source": [
    "n = 6\n",
    "group = id_vars\n",
    "sns.distplot(df[group[n]], bins=10, kde=False, rug=False)"
   ]
  },
  {
   "cell_type": "code",
   "execution_count": null,
   "metadata": {},
   "outputs": [],
   "source": [
    "n = 7\n",
    "group = id_vars\n",
    "sns.distplot(df[group[n]], bins=10, kde=False, rug=False)"
   ]
  },
  {
   "cell_type": "code",
   "execution_count": null,
   "metadata": {},
   "outputs": [],
   "source": [
    "n = 0\n",
    "group = acs_vars\n",
    "counts = df_value_counts(df, group[n]).sort_index().rename({1: '<18', 2: '18-64', 3: '65+'})\n",
    "counts.plot(kind='bar', title=group[n])"
   ]
  },
  {
   "cell_type": "code",
   "execution_count": null,
   "metadata": {},
   "outputs": [],
   "source": [
    "n = 1\n",
    "group = acs_vars\n",
    "sns.distplot(df[group[n]], bins=10, kde=False, rug=False)\n",
    "#counts = df_value_counts(df, group[n])\n",
    "#print(df_value_counts(df, group[n]))\n",
    "#plt = sns.scatterplot(data=counts)\n",
    "#plt.set_ylabel('Raw Pop')\n",
    "#plt.set_title(group[n])"
   ]
  },
  {
   "cell_type": "code",
   "execution_count": null,
   "metadata": {},
   "outputs": [],
   "source": [
    "n = 2\n",
    "group = acs_vars\n",
    "sns.distplot(df[group[n]], bins=10, kde=False, rug=False)"
   ]
  },
  {
   "cell_type": "code",
   "execution_count": null,
   "metadata": {},
   "outputs": [],
   "source": [
    "n = 3\n",
    "group = acs_vars\n",
    "sns.distplot(df[group[n]], bins=10, kde=False, rug=False)"
   ]
  },
  {
   "cell_type": "code",
   "execution_count": null,
   "metadata": {},
   "outputs": [],
   "source": [
    "n = 4\n",
    "group = acs_vars\n",
    "sns.distplot(df[group[n]], bins=10, kde=False, rug=False)"
   ]
  },
  {
   "cell_type": "code",
   "execution_count": null,
   "metadata": {},
   "outputs": [],
   "source": [
    "n = 5\n",
    "group = acs_vars\n",
    "sns.distplot(df[group[n]], bins=10, kde=False, rug=False)"
   ]
  },
  {
   "cell_type": "code",
   "execution_count": null,
   "metadata": {},
   "outputs": [],
   "source": [
    "n = 6\n",
    "group = acs_vars\n",
    "sns.distplot(df[group[n]], bins=10, kde=False, rug=False)"
   ]
  },
  {
   "cell_type": "code",
   "execution_count": null,
   "metadata": {},
   "outputs": [],
   "source": [
    "n = 7\n",
    "group = acs_vars\n",
    "sns.distplot(df[group[n]], bins=10, kde=False, rug=False)"
   ]
  },
  {
   "cell_type": "code",
   "execution_count": null,
   "metadata": {},
   "outputs": [],
   "source": [
    "n = 8\n",
    "group = acs_vars\n",
    "sns.distplot(df[group[n]], bins=10, kde=False, rug=False)"
   ]
  },
  {
   "cell_type": "code",
   "execution_count": null,
   "metadata": {},
   "outputs": [],
   "source": [
    "n = 9\n",
    "group = acs_vars\n",
    "sns.distplot(df[group[n]], bins=10, kde=False, rug=False)"
   ]
  },
  {
   "cell_type": "code",
   "execution_count": null,
   "metadata": {},
   "outputs": [],
   "source": [
    "n = 10\n",
    "group = acs_vars\n",
    "sns.distplot(df[group[n]], bins=10, kde=False, rug=False)"
   ]
  },
  {
   "cell_type": "code",
   "execution_count": null,
   "metadata": {},
   "outputs": [],
   "source": [
    "n = 0\n",
    "group = nyc_vars\n",
    "counts = df_value_counts(df, group[n])\n",
    "if group[n] in nyc_codes.keys():\n",
    "    counts = counts.sort_index().rename(nyc_codes[group[n]])\n",
    "    print(counts)\n",
    "    plt = counts.plot(kind='bar', title=group[n])\n",
    "    plt.set_ylabel('Raw Pop')\n",
    "else:\n",
    "    plt = sns.scatterplot(data=counts)\n",
    "    plt.set_title(group[n])\n",
    "    plt.set_ylabel('Raw Pop')"
   ]
  },
  {
   "cell_type": "code",
   "execution_count": null,
   "metadata": {},
   "outputs": [],
   "source": [
    "n = 1\n",
    "group = nyc_vars\n",
    "counts = df_value_counts(df, group[n])\n",
    "if group[n] in nyc_codes.keys():\n",
    "    counts = counts.sort_index().rename(nyc_codes[group[n]])\n",
    "    print(counts)\n",
    "    plt = counts.plot(kind='bar', title=group[n])\n",
    "    plt.set_ylabel('Raw Pop')\n",
    "else:\n",
    "    plt = sns.scatterplot(data=counts)\n",
    "    plt.set_title(group[n])\n",
    "    plt.set_ylabel('Raw Pop')"
   ]
  },
  {
   "cell_type": "code",
   "execution_count": null,
   "metadata": {},
   "outputs": [],
   "source": [
    "n = 2\n",
    "group = nyc_vars\n",
    "counts = df_value_counts(df, group[n])\n",
    "if group[n] in nyc_codes.keys():\n",
    "    counts = counts.sort_index().rename(nyc_codes[group[n]])\n",
    "    print(counts)\n",
    "    plt = counts.plot(kind='bar', title=group[n])\n",
    "    plt.set_ylabel('Raw Pop')\n",
    "else:\n",
    "    plt = sns.scatterplot(data=counts)\n",
    "    plt.set_title(group[n])\n",
    "    plt.set_ylabel('Raw Pop')"
   ]
  },
  {
   "cell_type": "code",
   "execution_count": null,
   "metadata": {},
   "outputs": [],
   "source": [
    "n = 3\n",
    "group = nyc_vars\n",
    "counts = df_value_counts(df, group[n])\n",
    "if group[n] in nyc_codes.keys():\n",
    "    counts = counts.sort_index().rename(nyc_codes[group[n]])\n",
    "    print(counts)\n",
    "    plt = counts.plot(kind='bar', title=group[n])\n",
    "    plt.set_ylabel('Raw Pop')\n",
    "else:\n",
    "    plt = sns.scatterplot(data=counts)\n",
    "    plt.set_title(group[n])\n",
    "    plt.set_ylabel('Raw Pop')"
   ]
  },
  {
   "cell_type": "code",
   "execution_count": null,
   "metadata": {},
   "outputs": [],
   "source": [
    "n = 4\n",
    "group = nyc_vars\n",
    "counts = df_value_counts(df, group[n])\n",
    "if group[n] in nyc_codes.keys():\n",
    "    counts = counts.sort_index().rename(nyc_codes[group[n]])\n",
    "    print(counts)\n",
    "    plt = counts.plot(kind='bar', title=group[n])\n",
    "    plt.set_ylabel('Raw Pop')\n",
    "else:\n",
    "    sns.distplot(df[group[n]], bins=10, kde=False, rug=False)\n",
    "    #plt = sns.scatterplot(data=counts)\n",
    "    #plt.set_title(group[n])\n",
    "    #plt.set_ylabel('Raw Pop')"
   ]
  },
  {
   "cell_type": "code",
   "execution_count": null,
   "metadata": {},
   "outputs": [],
   "source": [
    "n = 5\n",
    "group = nyc_vars\n",
    "counts = df_value_counts(df, group[n])\n",
    "if group[n] in nyc_codes.keys():\n",
    "    counts = counts.sort_index().rename(nyc_codes[group[n]])\n",
    "    print(counts)\n",
    "    plt = counts.plot(kind='bar', title=group[n])\n",
    "    plt.set_ylabel('Raw Pop')\n",
    "else:\n",
    "    sns.distplot(df[group[n]], bins=10, kde=False, rug=False)"
   ]
  },
  {
   "cell_type": "code",
   "execution_count": null,
   "metadata": {},
   "outputs": [],
   "source": [
    "n = 6\n",
    "group = nyc_vars\n",
    "counts = df_value_counts(df, group[n])\n",
    "if group[n] in nyc_codes.keys():\n",
    "    counts = counts.sort_index().rename(nyc_codes[group[n]])\n",
    "    print(counts)\n",
    "    plt = counts.plot(kind='bar', title=group[n])\n",
    "    plt.set_ylabel('Raw Pop')\n",
    "else:\n",
    "    sns.distplot(df[group[n]], bins=10, kde=False, rug=False)"
   ]
  },
  {
   "cell_type": "code",
   "execution_count": null,
   "metadata": {},
   "outputs": [],
   "source": [
    "n = 7\n",
    "group = nyc_vars\n",
    "counts = df_value_counts(df, group[n])\n",
    "if group[n] in nyc_codes.keys():\n",
    "    counts = counts.sort_index().rename(nyc_codes[group[n]])\n",
    "    print(counts)\n",
    "    plt = counts.plot(kind='bar', title=group[n])\n",
    "    plt.set_ylabel('Raw Pop')\n",
    "else:\n",
    "    sns.distplot(df[group[n]], bins=10, kde=False, rug=False)"
   ]
  },
  {
   "cell_type": "code",
   "execution_count": null,
   "metadata": {},
   "outputs": [],
   "source": [
    "n = 8\n",
    "group = nyc_vars\n",
    "counts = df_value_counts(df, group[n])\n",
    "if group[n] in nyc_codes.keys():\n",
    "    counts = counts.sort_index().rename(nyc_codes[group[n]])\n",
    "    print(counts)\n",
    "    plt = counts.plot(kind='bar', title=group[n])\n",
    "    plt.set_ylabel('Raw Pop')\n",
    "else:\n",
    "    sns.distplot(df[group[n]], bins=10, kde=False, rug=False)"
   ]
  },
  {
   "cell_type": "code",
   "execution_count": null,
   "metadata": {},
   "outputs": [],
   "source": [
    "n = 9\n",
    "group = nyc_vars\n",
    "counts = df_value_counts(df, group[n])\n",
    "if group[n] in nyc_codes.keys():\n",
    "    counts = counts.sort_index().rename(nyc_codes[group[n]])\n",
    "    print(counts)\n",
    "    plt = counts.plot(kind='bar', title=group[n])\n",
    "    plt.set_ylabel('Raw Pop')\n",
    "else:\n",
    "    sns.distplot(df[group[n]], bins=10, kde=False, rug=False)"
   ]
  },
  {
   "cell_type": "code",
   "execution_count": null,
   "metadata": {},
   "outputs": [],
   "source": [
    "n = 10\n",
    "group = nyc_vars\n",
    "counts = df_value_counts(df, group[n])\n",
    "if group[n] in nyc_codes.keys():\n",
    "    counts = counts.sort_index().rename(nyc_codes[group[n]])\n",
    "    print(counts)\n",
    "    plt = counts.plot(kind='bar', title=group[n])\n",
    "    plt.set_ylabel('Raw Pop')\n",
    "else:\n",
    "    sns.distplot(df[group[n]], bins=10, kde=False, rug=False)"
   ]
  },
  {
   "cell_type": "code",
   "execution_count": null,
   "metadata": {},
   "outputs": [],
   "source": [
    "n = 11\n",
    "group = nyc_vars\n",
    "counts = df_value_counts(df, group[n])\n",
    "if group[n] in nyc_codes.keys():\n",
    "    counts = counts.sort_index().rename(nyc_codes[group[n]])\n",
    "    print(counts)\n",
    "    plt = counts.plot(kind='bar', title=group[n])\n",
    "    plt.set_ylabel('Raw Pop')\n",
    "else:\n",
    "    sns.distplot(df[group[n]], bins=10, kde=False, rug=False)"
   ]
  },
  {
   "cell_type": "code",
   "execution_count": null,
   "metadata": {},
   "outputs": [],
   "source": [
    "n = 12\n",
    "group = nyc_vars\n",
    "counts = df_value_counts(df, group[n])\n",
    "if group[n] in nyc_codes.keys():\n",
    "    counts = counts.sort_index().rename(nyc_codes[group[n]])\n",
    "    print(counts)\n",
    "    plt = counts.plot(kind='bar', title=group[n])\n",
    "    plt.set_ylabel('Raw Pop')\n",
    "else:\n",
    "    sns.distplot(df[group[n]], bins=10, kde=False, rug=False)"
   ]
  },
  {
   "cell_type": "code",
   "execution_count": null,
   "metadata": {},
   "outputs": [],
   "source": [
    "n = 13\n",
    "group = nyc_vars\n",
    "counts = df_value_counts(df, group[n])\n",
    "if group[n] in nyc_codes.keys():\n",
    "    counts = counts.sort_index().rename(nyc_codes[group[n]])\n",
    "    print(counts)\n",
    "    plt = counts.plot(kind='bar', title=group[n])\n",
    "    plt.set_ylabel('Raw Pop')\n",
    "else:\n",
    "    sns.distplot(df[group[n]], bins=10, kde=False, rug=False)"
   ]
  },
  {
   "cell_type": "code",
   "execution_count": null,
   "metadata": {},
   "outputs": [],
   "source": [
    "n = 14\n",
    "group = nyc_vars\n",
    "counts = df_value_counts(df, group[n])\n",
    "if group[n] in nyc_codes.keys():\n",
    "    counts = counts.sort_index().rename(nyc_codes[group[n]])\n",
    "    print(counts)\n",
    "    plt = counts.plot(kind='bar', title=group[n])\n",
    "    plt.set_ylabel('Raw Pop')\n",
    "else:\n",
    "    sns.distplot(df[group[n]], bins=10, kde=False, rug=False)"
   ]
  },
  {
   "cell_type": "code",
   "execution_count": null,
   "metadata": {},
   "outputs": [],
   "source": [
    "n = 15\n",
    "group = nyc_vars\n",
    "counts = df_value_counts(df, group[n])\n",
    "if group[n] in nyc_codes.keys():\n",
    "    counts = counts.sort_index().rename(nyc_codes[group[n]])\n",
    "    print(counts)\n",
    "    plt = counts.plot(kind='bar', title=group[n])\n",
    "    plt.set_ylabel('Raw Pop')\n",
    "else:\n",
    "    sns.distplot(df[group[n]], bins=10, kde=False, rug=False)"
   ]
  },
  {
   "cell_type": "code",
   "execution_count": null,
   "metadata": {},
   "outputs": [],
   "source": [
    "n = 16\n",
    "group = nyc_vars\n",
    "counts = df_value_counts(df, group[n])\n",
    "if group[n] in nyc_codes.keys():\n",
    "    counts = counts.sort_index().rename(nyc_codes[group[n]])\n",
    "    print(counts)\n",
    "    plt = counts.plot(kind='bar', title=group[n])\n",
    "    plt.set_ylabel('Raw Pop')\n",
    "else:\n",
    "    sns.distplot(df[group[n]], bins=10, kde=False, rug=False)"
   ]
  },
  {
   "cell_type": "code",
   "execution_count": null,
   "metadata": {},
   "outputs": [],
   "source": [
    "n = 17\n",
    "group = nyc_vars\n",
    "counts = df_value_counts(df, group[n])\n",
    "if group[n] in nyc_codes.keys():\n",
    "    counts = counts.sort_index().rename(nyc_codes[group[n]])\n",
    "    print(counts)\n",
    "    plt = counts.plot(kind='bar', title=group[n])\n",
    "    plt.set_ylabel('Raw Pop')\n",
    "else:\n",
    "    sns.distplot(df[group[n]], bins=10, kde=False, rug=False)"
   ]
  },
  {
   "cell_type": "code",
   "execution_count": null,
   "metadata": {},
   "outputs": [],
   "source": [
    "n = 18\n",
    "group = nyc_vars\n",
    "counts = df_value_counts(df, group[n])\n",
    "if group[n] in nyc_codes.keys():\n",
    "    counts = counts.sort_index().rename(nyc_codes[group[n]])\n",
    "    print(counts)\n",
    "    plt = counts.plot(kind='bar', title=group[n])\n",
    "    plt.set_ylabel('Raw Pop')\n",
    "else:\n",
    "    sns.distplot(df[group[n]], bins=10, kde=False, rug=False)"
   ]
  },
  {
   "cell_type": "code",
   "execution_count": null,
   "metadata": {},
   "outputs": [],
   "source": [
    "#tester3 = df[['SCHG']].copy()\n",
    "#tester3.replace(codes['SCHG'], inplace=True)\n",
    "#tester3 = tester3['SCHG']\n",
    "\n",
    "tester3 = df['SCHG'].copy()\n",
    "tester3.replace(codes['SCHG'], inplace=True)\n",
    "#tester3 = tester3['SCHG']\n",
    "\n",
    "#tester3 = tester3.value_counts(sort=False)\n",
    "#tester3 = df_value_counts(df, 'SCHG')\n",
    "#tester3 = pd.DataFrame(tester3)\n",
    "#tester3.rename(index=codes['SCHG'], columns={0: 'SCHG'}, inplace=True)\n",
    "#tester3 = tester3['SCHG']\n",
    "#tester3.tail(30)\n",
    "#list(codes['SCHG'].values())[1:]\n",
    "\n",
    "#sns.catplot(tester3, kind='count')#, order=df.SCHG.index[:17])#, order=df.SCHG.iloc[:20].index)\n",
    "#sns.countplot(tester3, order=codes['SCHG'].values())\n",
    "\n",
    "\n",
    "sns.countplot(tester3, order=list(codes['SCHG'].values())[1:])\n",
    "plt.xticks(rotation=90);"
   ]
  },
  {
   "cell_type": "code",
   "execution_count": null,
   "metadata": {},
   "outputs": [],
   "source": [
    "n = 18\n",
    "group = nyc_vars\n",
    "counts = df_value_counts(df, group[n])\n",
    "print(type(counts))\n",
    "counts = counts.sort_index().rename(nyc_codes[group[n]])\n",
    "print(counts.index)\n",
    "sns.countplot(counts.T)#, order=counts.iloc[:50].index)\n",
    "#sns.countplot(df[group[n]].)\n",
    "    #counts), order=df[group[n]].iloc[:50].index)\n",
    "counts"
   ]
  },
  {
   "cell_type": "code",
   "execution_count": null,
   "metadata": {},
   "outputs": [],
   "source": [
    "n = 19\n",
    "group = nyc_vars\n",
    "counts = df_value_counts(df, group[n])\n",
    "if group[n] in nyc_codes.keys():\n",
    "    counts = counts.sort_index().rename(nyc_codes[group[n]])\n",
    "    print(counts)\n",
    "    plt = counts.plot(kind='bar', title=group[n])\n",
    "    plt.set_ylabel('Raw Pop')\n",
    "else:\n",
    "    sns.distplot(df[group[n]], bins=10, kde=False, rug=False)"
   ]
  },
  {
   "cell_type": "code",
   "execution_count": null,
   "metadata": {},
   "outputs": [],
   "source": [
    "n = 20\n",
    "group = nyc_vars\n",
    "counts = df_value_counts(df, group[n])\n",
    "if group[n] in nyc_codes.keys():\n",
    "    counts = counts.sort_index().rename(nyc_codes[group[n]])\n",
    "    print(counts)\n",
    "    plt = counts.plot(kind='bar', title=group[n])\n",
    "    plt.set_ylabel('Raw Pop')\n",
    "else:\n",
    "    sns.distplot(df[group[n]], bins=10, kde=False, rug=False)"
   ]
  },
  {
   "cell_type": "code",
   "execution_count": null,
   "metadata": {},
   "outputs": [],
   "source": [
    "n = 20\n",
    "group = nyc_vars\n",
    "counts = df_value_counts(df, group[n])\n",
    "if group[n] in nyc_codes.keys():\n",
    "    counts = counts.sort_index().rename(nyc_codes[group[n]])\n",
    "    print(counts)\n",
    "    plt = counts.plot(kind='bar', title=group[n])\n",
    "    plt.set_ylabel('Raw Pop')\n",
    "else:\n",
    "    sns.distplot(df[group[n]], bins=10, kde=False, rug=False)"
   ]
  },
  {
   "cell_type": "code",
   "execution_count": null,
   "metadata": {},
   "outputs": [],
   "source": [
    "n = 10\n",
    "group = nyc_vars\n",
    "counts = df_value_counts(df, group[n])\n",
    "counts\n",
    "plt = sns.scatterplot(data=df['NYCgov_Income'])"
   ]
  },
  {
   "cell_type": "code",
   "execution_count": null,
   "metadata": {},
   "outputs": [],
   "source": [
    "nyc_vars[10]"
   ]
  },
  {
   "cell_type": "code",
   "execution_count": null,
   "metadata": {},
   "outputs": [],
   "source": []
  },
  {
   "cell_type": "code",
   "execution_count": null,
   "metadata": {},
   "outputs": [],
   "source": [
    "df.loc[df.PWGTP > 500, ['WGTP', 'PWGTP']].count()"
   ]
  },
  {
   "cell_type": "code",
   "execution_count": null,
   "metadata": {},
   "outputs": [],
   "source": [
    "# Create a function to chart relationship between two variables\n",
    "def show_indiv_charts(df, inp_column, out_column, description, inp_list, out_list):\n",
    "    '''Show two single-variable charts of a particular dataframe by column.\n",
    "    Input: a dataframe, an input column, an output column, a description of the output column, list of the input group\n",
    "        names, and a list of the output group names. The \"most-interesting\" output should be the first element of the \n",
    "        list of output group names.\n",
    "    Output: no return value. Shows two charts of percentages of output column, grouped by input column.'''\n",
    "    \n",
    "    # Focus on the columns of interest\n",
    "    y = df[[inp_column, out_column]]\n",
    "    \n",
    "    # Count rows, grouping by input column and then output column\n",
    "    group_counts = y.groupby([inp_column, out_column]).agg({out_column : 'count'})\n",
    "    \n",
    "    # Within each input group, count the percentage by output\n",
    "    group_pcts = group_counts.groupby(inp_column).apply(lambda x: round(100 * x / float(x.sum()),1))\n",
    "    \n",
    "    # Reshape the dataframe so that each input group is one row, each output group is one column\n",
    "    summary1 = pd.DataFrame(index=inp_list, columns=out_list, \n",
    "                            data=group_pcts.unstack().values.reshape(len(inp_list), len(out_list)))\n",
    "    \n",
    "    # Pull out the output column of interest to show a chart of just that by input group\n",
    "    summary2 = summary1[out_list[0]].copy()\n",
    "    \n",
    "    # Plot and show the charts\n",
    "    summary1.plot(kind='bar', stacked=True, title='Percentage ' + description + ' by ' + inp_column)\n",
    "    plt.show()\n",
    "    summary2.plot(kind='bar', title='Percent ' + description + ' by ' + inp_column)\n",
    "    plt.show()\n",
    "                                                                                                       \n",
    "#show_indiv_charts(df=df, inp_column='Boro', out_column='NYCgov_Pov_Stat', description='Poverty', \n",
    "                  #inp_list=boroughs, out_list=['Poverty', 'Not in Poverty'])\n",
    "                                                                                                       \n",
    "df['AgeBucket'] = df['AGEP'] // 20\n",
    "\n",
    "show_indiv_charts(df=df, inp_column='AgeBucket', out_column='NYCgov_Pov_Stat', description='Poverty', \n",
    "                  inp_list=['0-19','21-40','41-60','61-80','81-99'], out_list=['Poverty', 'Not in Poverty'])\n"
   ]
  },
  {
   "cell_type": "code",
   "execution_count": null,
   "metadata": {},
   "outputs": [],
   "source": [
    "y = df[['Ethnicity', 'NYCgov_Pov_Stat']]\n",
    "ethnicities = ['White', 'Black', 'Asian', 'Hisp', 'Other']\n",
    "eth_counts = y.groupby(['Ethnicity','NYCgov_Pov_Stat']).agg({'NYCgov_Pov_Stat': 'count'})\n",
    "eth_pcts = eth_counts.groupby('Ethnicity').apply(lambda x: round(100 * x / float(x.sum()),1))\n",
    "summary1 = pd.DataFrame(index=ethnicities, columns=['Poverty', 'Not in Poverty'], data=eth_pcts.unstack().values.reshape(5,2))\n",
    "summary2 = summary1['Poverty'].copy()\n",
    "summary1.plot(kind='bar', stacked=True)\n",
    "plt.show()\n",
    "summary2.plot(kind='bar', title='Percent in Poverty by Ethnicity')\n",
    "plt.show()"
   ]
  },
  {
   "cell_type": "code",
   "execution_count": null,
   "metadata": {},
   "outputs": [],
   "source": [
    "df[output_vars].corr()"
   ]
  },
  {
   "cell_type": "code",
   "execution_count": null,
   "metadata": {},
   "outputs": [],
   "source": [
    "import xlrd\n",
    "test = pd.read_excel('data/NYCgov_Poverty_Measure_Data_Dictionary.xlsx', 'Column Info', skiprows=1, usecols=[0,2,3], names=list(range(3)))\n",
    "d = test.set_index(0).to_dict(orient='index')"
   ]
  }
 ],
 "metadata": {
  "kernelspec": {
   "display_name": "Python 3",
   "language": "python",
   "name": "python3"
  },
  "language_info": {
   "codemirror_mode": {
    "name": "ipython",
    "version": 3
   },
   "file_extension": ".py",
   "mimetype": "text/x-python",
   "name": "python",
   "nbconvert_exporter": "python",
   "pygments_lexer": "ipython3",
   "version": "3.7.0"
  }
 },
 "nbformat": 4,
 "nbformat_minor": 2
}
